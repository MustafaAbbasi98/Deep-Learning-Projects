{
 "cells": [
  {
   "cell_type": "markdown",
   "metadata": {},
   "source": [
    "# English-to-Spanish Translation with Custom Transformer from scratch"
   ]
  },
  {
   "cell_type": "code",
   "execution_count": null,
   "metadata": {},
   "outputs": [],
   "source": [
    "import tensorflow as tf\n",
    "\n",
    "import matplotlib.pyplot as plt\n",
    "import matplotlib.ticker as ticker\n",
    "from sklearn.model_selection import train_test_split\n",
    "\n",
    "import unicodedata\n",
    "import re\n",
    "import numpy as np\n",
    "import os\n",
    "import io\n",
    "import time\n",
    "from pathlib import Path\n",
    "import pandas as pd\n",
    "%matplotlib notebook"
   ]
  },
  {
   "cell_type": "markdown",
   "metadata": {},
   "source": [
    "## The Data"
   ]
  },
  {
   "cell_type": "code",
   "execution_count": 2,
   "metadata": {},
   "outputs": [],
   "source": [
    "path = Path(\"spa.txt\")"
   ]
  },
  {
   "cell_type": "code",
   "execution_count": 3,
   "metadata": {},
   "outputs": [],
   "source": [
    "# Converts the unicode file to ascii\n",
    "def unicode_to_ascii(s):\n",
    "    return ''.join(c for c in unicodedata.normalize('NFD', s)\n",
    "      if unicodedata.category(c) != 'Mn')"
   ]
  },
  {
   "cell_type": "code",
   "execution_count": 4,
   "metadata": {},
   "outputs": [],
   "source": [
    "def preprocess_sentence(s):\n",
    "    s = unicode_to_ascii(s.lower().strip())\n",
    "    \n",
    "    #Add space before any punctuation\n",
    "    s = re.sub(r\"([?.!,¿])\", r\" \\1 \", s)\n",
    "    \n",
    "    #Remove several spaces with a single space\n",
    "    s = re.sub(r'[\" \"]+', \" \", s)\n",
    "       \n",
    "    return \"<start> \" + s.strip() + \" <end>\""
   ]
  },
  {
   "cell_type": "code",
   "execution_count": 5,
   "metadata": {},
   "outputs": [],
   "source": [
    "def parse_file(path, num_examples):\n",
    "    lines = io.open(path, encoding='UTF-8').read().strip().split('\\n')\n",
    "    \n",
    "    word_pairs = [[preprocess_sentence(s) for s in line.split('\\t')[:2]] for line in lines[:num_examples]]\n",
    "    \n",
    "    return zip(*word_pairs)"
   ]
  },
  {
   "cell_type": "code",
   "execution_count": 6,
   "metadata": {},
   "outputs": [],
   "source": [
    "def tokenize(sentences):\n",
    "    tokenizer = tf.keras.preprocessing.text.Tokenizer(filters='')\n",
    "    tokenizer.fit_on_texts(sentences)\n",
    "    \n",
    "    tensor = tokenizer.texts_to_sequences(sentences)\n",
    "    \n",
    "    tensor = tf.keras.preprocessing.sequence.pad_sequences(tensor, padding='post')\n",
    "    \n",
    "    return tensor, tokenizer"
   ]
  },
  {
   "cell_type": "code",
   "execution_count": 7,
   "metadata": {},
   "outputs": [],
   "source": [
    "def max_length(tensor):\n",
    "    return max(len(t) for t in tensor)"
   ]
  },
  {
   "cell_type": "code",
   "execution_count": 8,
   "metadata": {},
   "outputs": [],
   "source": [
    "def load_data(path, num_examples=None):\n",
    "    inp_sentences, targ_sentences = parse_file(path, num_examples)\n",
    "    \n",
    "    inp_tensors, inp_lang_tokenizer = tokenize(inp_sentences)\n",
    "    targ_tensors, targ_lang_tokenizer = tokenize(targ_sentences)\n",
    "    \n",
    "    return inp_tensors, targ_tensors, inp_lang_tokenizer, targ_lang_tokenizer"
   ]
  },
  {
   "cell_type": "code",
   "execution_count": 9,
   "metadata": {},
   "outputs": [
    {
     "name": "stdout",
     "output_type": "stream",
     "text": [
      "<start> nice talking with you . <end>\n",
      "<start> fue agradable hablar con usted . <end>\n"
     ]
    }
   ],
   "source": [
    "num_examples = 30000\n",
    "eng, spa = parse_file(path, num_examples)\n",
    "print(eng[-1])\n",
    "print(spa[-1])"
   ]
  },
  {
   "cell_type": "code",
   "execution_count": 70,
   "metadata": {},
   "outputs": [],
   "source": [
    "# Try experimenting with the size of that dataset\n",
    "num_examples = 30000\n",
    "input_tensor, target_tensor, inp_lang, targ_lang = load_data(path, num_examples)\n",
    "\n",
    "# Calculate max_length of the target tensors\n",
    "max_length_targ, max_length_inp = max_length(target_tensor), max_length(input_tensor)"
   ]
  },
  {
   "cell_type": "code",
   "execution_count": 71,
   "metadata": {},
   "outputs": [],
   "source": [
    "def convert(lang, tensor):\n",
    "    for word in tensor:\n",
    "        if word != 0:\n",
    "            print(f\"{word} -----> {lang.index_word[word]}\")"
   ]
  },
  {
   "cell_type": "code",
   "execution_count": 72,
   "metadata": {},
   "outputs": [
    {
     "name": "stdout",
     "output_type": "stream",
     "text": [
      "1 -----> <start>\n",
      "29 -----> go\n",
      "3 -----> .\n",
      "2 -----> <end>\n"
     ]
    }
   ],
   "source": [
    "convert(inp_lang, input_tensor[0])"
   ]
  },
  {
   "cell_type": "code",
   "execution_count": 73,
   "metadata": {},
   "outputs": [
    {
     "name": "stdout",
     "output_type": "stream",
     "text": [
      "1 -----> <start>\n",
      "143 -----> ve\n",
      "3 -----> .\n",
      "2 -----> <end>\n"
     ]
    }
   ],
   "source": [
    "convert(targ_lang, target_tensor[0])"
   ]
  },
  {
   "cell_type": "code",
   "execution_count": 74,
   "metadata": {},
   "outputs": [],
   "source": [
    "input_tensor_train, input_tensor_val, target_tensor_train, target_tensor_val = train_test_split(input_tensor, target_tensor, test_size=0.2)"
   ]
  },
  {
   "cell_type": "code",
   "execution_count": 75,
   "metadata": {},
   "outputs": [],
   "source": [
    "BUFFER_SIZE = len(input_tensor_train)\n",
    "BATCH_SIZE = 64\n",
    "STEPS_PER_EPOCH = len(input_tensor_train) // BATCH_SIZE\n",
    "vocab_inp_size = len(inp_lang.word_index) + 1\n",
    "vocab_targ_size = len(targ_lang.word_index) + 1"
   ]
  },
  {
   "cell_type": "code",
   "execution_count": 76,
   "metadata": {},
   "outputs": [],
   "source": [
    "train_data = tf.data.Dataset.from_tensor_slices((input_tensor_train, target_tensor_train)).shuffle(BUFFER_SIZE)\n",
    "train_data = train_data.batch(BATCH_SIZE)"
   ]
  },
  {
   "cell_type": "code",
   "execution_count": 78,
   "metadata": {},
   "outputs": [
    {
     "data": {
      "text/plain": [
       "(TensorShape([64, 11]), TensorShape([64, 16]))"
      ]
     },
     "execution_count": 78,
     "metadata": {},
     "output_type": "execute_result"
    }
   ],
   "source": [
    "example_input_batch, example_target_batch = next(iter(train_data))\n",
    "example_input_batch.shape, example_target_batch.shape"
   ]
  },
  {
   "cell_type": "markdown",
   "metadata": {},
   "source": [
    "## Masking"
   ]
  },
  {
   "cell_type": "code",
   "execution_count": 18,
   "metadata": {},
   "outputs": [],
   "source": [
    "def create_padding_mask(seq):\n",
    "    mask = tf.cast(tf.math.equal(seq, 0), tf.float32)\n",
    "    \n",
    "    return mask[:, tf.newaxis, tf.newaxis, :] #(batch_size, 1, 1, seq_len)"
   ]
  },
  {
   "cell_type": "code",
   "execution_count": 19,
   "metadata": {},
   "outputs": [
    {
     "data": {
      "text/plain": [
       "<tf.Tensor: id=27, shape=(3, 1, 1, 5), dtype=float32, numpy=\n",
       "array([[[[0., 0., 1., 1., 0.]]],\n",
       "\n",
       "\n",
       "       [[[0., 0., 0., 1., 1.]]],\n",
       "\n",
       "\n",
       "       [[[1., 1., 1., 0., 0.]]]], dtype=float32)>"
      ]
     },
     "execution_count": 19,
     "metadata": {},
     "output_type": "execute_result"
    }
   ],
   "source": [
    "x = tf.constant([[7, 6, 0, 0, 1], [1, 2, 3, 0, 0], [0, 0, 0, 4, 5]])\n",
    "create_padding_mask(x)"
   ]
  },
  {
   "cell_type": "code",
   "execution_count": 20,
   "metadata": {},
   "outputs": [],
   "source": [
    "#Have ones in upper triangular part (zeroes on the lower triangle + diagonal)\n",
    "#Note: The ones are placed on the positions which NEED to be masked\n",
    "def create_look_ahead_mask(size):\n",
    "    mask = 1 - tf.linalg.band_part(tf.ones((size, size)), -1, 0)\n",
    "    return mask"
   ]
  },
  {
   "cell_type": "code",
   "execution_count": 21,
   "metadata": {},
   "outputs": [
    {
     "data": {
      "text/plain": [
       "<tf.Tensor: id=42, shape=(5, 5), dtype=float32, numpy=\n",
       "array([[0., 1., 1., 1., 1.],\n",
       "       [0., 0., 1., 1., 1.],\n",
       "       [0., 0., 0., 1., 1.],\n",
       "       [0., 0., 0., 0., 1.],\n",
       "       [0., 0., 0., 0., 0.]], dtype=float32)>"
      ]
     },
     "execution_count": 21,
     "metadata": {},
     "output_type": "execute_result"
    }
   ],
   "source": [
    "x = tf.random.uniform((1, 5))\n",
    "temp = create_look_ahead_mask(x.shape[1])\n",
    "temp"
   ]
  },
  {
   "cell_type": "code",
   "execution_count": null,
   "metadata": {},
   "outputs": [],
   "source": []
  },
  {
   "cell_type": "markdown",
   "metadata": {},
   "source": [
    "## Defining The Transformer Model\n",
    "- Here, we will create all the components necessary to build our own Transformer model from scratch"
   ]
  },
  {
   "cell_type": "code",
   "execution_count": null,
   "metadata": {},
   "outputs": [],
   "source": []
  },
  {
   "cell_type": "code",
   "execution_count": 22,
   "metadata": {},
   "outputs": [],
   "source": [
    "class PositionalEncoding(tf.keras.Model):\n",
    "    def __init__(self, d_model, max_len=5000):\n",
    "        super(PositionalEncoding, self).__init__()\n",
    "        \n",
    "        self.pe = np.zeros((max_len, d_model))\n",
    "        positions = np.arange(max_len)[:, np.newaxis] #(max_len, 1)\n",
    "        angle_rads = np.exp(np.arange(0, d_model, 2) *\n",
    "                            -(np.log(10000) / np.float32(d_model)))\n",
    "        \n",
    "        self.pe[:, 0::2] = np.sin(positions * angle_rads) #fill all even indices with sines\n",
    "        self.pe[:, 1::2] = np.cos(positions * angle_rads) #fill all odd indices with cosines\n",
    "        \n",
    "        self.pe = tf.expand_dims(tf.cast(self.pe, tf.float32), 0)\n",
    "        \n",
    "    def call(self, x):\n",
    "        #x is (batch_size, seq_len, d_model)\n",
    "        seq_len = tf.shape(x)[1]\n",
    "        \n",
    "        return x + self.pe[:, :seq_len, :]"
   ]
  },
  {
   "cell_type": "code",
   "execution_count": 53,
   "metadata": {},
   "outputs": [
    {
     "name": "stdout",
     "output_type": "stream",
     "text": [
      "(64, 36, 256)\n"
     ]
    }
   ],
   "source": [
    "sample_pe = PositionalEncoding(256)\n",
    "sample_inp = tf.random.normal((64, 36, 256))\n",
    "print(sample_pe(sample_inp).shape)"
   ]
  },
  {
   "cell_type": "code",
   "execution_count": 23,
   "metadata": {},
   "outputs": [],
   "source": [
    "def positionwise_feed_forward_network(d_model, d_ff):\n",
    "    return tf.keras.Sequential([\n",
    "        tf.keras.layers.Dense(d_ff),\n",
    "        tf.keras.layers.Dense(d_model)\n",
    "    ])"
   ]
  },
  {
   "cell_type": "code",
   "execution_count": 24,
   "metadata": {},
   "outputs": [],
   "source": [
    "def scaled_dot_product_attention(Q, K, V, mask):\n",
    "    \"\"\"Calculate the attention weights.\n",
    "      Q, K, V must have matching leading dimensions.\n",
    "      K, V must have matching penultimate dimension, i.e.: seq_len_k = seq_len_v.\n",
    "      The mask has different shapes depending on its type(padding or look ahead) \n",
    "      but it must be broadcastable for addition.\n",
    "\n",
    "      Args:\n",
    "        Q: query shape == (..., seq_len_q, depth)\n",
    "        K: key shape == (..., seq_len_k, depth)\n",
    "        V: value shape == (..., seq_len_v, depth_v)\n",
    "        mask: Float tensor with shape broadcastable \n",
    "              to (..., seq_len_q, seq_len_k). Defaults to None.\n",
    "\n",
    "      Returns:\n",
    "        output, attention_weights\n",
    "      \"\"\" \n",
    "    \n",
    "    matmul_QK = tf.matmul(Q, K, transpose_b=True) #(batch_size, num_heads, seq_len_q, seq_len_k)\n",
    "    \n",
    "    dk = tf.shape(K)[-1]\n",
    "    scaled_attention_logits = matmul_QK / tf.math.sqrt(tf.cast(dk, tf.float32)) #(batch_size, num_heads, seq_len_q, seq_len_k)\n",
    "    \n",
    "    if mask is not None:\n",
    "        scaled_attention_logits += (mask * -1e-9)\n",
    "    \n",
    "    #normalize last axis (seq_len_k) so that weights add up to 1\n",
    "    attention_weights = tf.nn.softmax(scaled_attention_logits, axis=-1)\n",
    "    \n",
    "    attention_out = tf.matmul(attention_weights, V) #(batch_size, num_heads, seq_len_q, depth_v)\n",
    "    \n",
    "    return attention_out, attention_weights\n",
    "    "
   ]
  },
  {
   "cell_type": "code",
   "execution_count": 25,
   "metadata": {},
   "outputs": [],
   "source": [
    "class MultiHeadAttention(tf.keras.Model):\n",
    "    def __init__(self, d_model, n_heads):\n",
    "        super(MultiHeadAttention, self).__init__()\n",
    "        self.d_model = d_model\n",
    "        self.num_heads = n_heads\n",
    "        \n",
    "        assert d_model % n_heads == 0\n",
    "        \n",
    "        self.depth = self.d_model // self.num_heads\n",
    "        \n",
    "        self.W_Q = tf.keras.layers.Dense(d_model)\n",
    "        self.W_K = tf.keras.layers.Dense(d_model)\n",
    "        self.W_V = tf.keras.layers.Dense(d_model)\n",
    "        \n",
    "        self.dense = tf.keras.layers.Dense(d_model)\n",
    "        \n",
    "    def split_heads(self, x, batch_size):\n",
    "        x = tf.reshape(x, (batch_size, -1, self.num_heads, self.depth))\n",
    "        return tf.transpose(x, perm=[0, 2, 1, 3]) #(batch_size, num_heads, seq_len_x, depth)\n",
    "    \n",
    "    def call(self, query, key, value, mask):\n",
    "        batch_size = tf.shape(query)[0]\n",
    "        \n",
    "        queries = self.W_Q(query) #(batch_size, seq_len, d_model)\n",
    "        keys = self.W_K(key) #(batch_size, seq_len, d_model)\n",
    "        values = self.W_V(value) #(batch_size, seq_len, d_model)\n",
    "        \n",
    "        queries = self.split_heads(queries, batch_size) #(batch_size, num_heads, seq_len_q, depth)\n",
    "        keys = self.split_heads(keys, batch_size) #(batch_size, num_heads, seq_len_k, depth)\n",
    "        values = self.split_heads(values, batch_size) #(batch_size, num_heads, seq_len_v, depth)\n",
    "        \n",
    "        #scaled_attention.shape = (batch_size, num_heads, seq_len_q, depth)\n",
    "        #attn_weights.shape = (batch_size, num_heads, seq_len_q, seq_len_k)\n",
    "        scaled_attention, attn_weights = scaled_dot_product_attention(queries, keys, values, mask)\n",
    "        \n",
    "        scaled_attention = tf.transpose(scaled_attention, perm=[0, 2, 1, 3]) #(batch_size, seq_len_q, dense, num_heads, depth)\n",
    "        \n",
    "        concat_attention = tf.reshape(scaled_attention, (batch_size, -1, self.d_model)) #(batch_size, seq_len_q, d_model)\n",
    "        \n",
    "        out = self.dense(concat_attention) #(batch_size, seq_len_q, d_model)\n",
    "        \n",
    "        return out, attn_weights"
   ]
  },
  {
   "cell_type": "code",
   "execution_count": 57,
   "metadata": {},
   "outputs": [
    {
     "name": "stdout",
     "output_type": "stream",
     "text": [
      "(64, 40, 256)\n"
     ]
    }
   ],
   "source": [
    "sample_mha = MultiHeadAttention(256, 8)\n",
    "sample_inp = tf.random.normal((64, 40, 256))\n",
    "sample_mha_out, _ = sample_mha(sample_inp, sample_inp, sample_inp, None)\n",
    "print(sample_mha_out.shape)"
   ]
  },
  {
   "cell_type": "markdown",
   "metadata": {},
   "source": [
    "#### Encoder Layer\n",
    "\n",
    "One encoder layer contains the following:\n",
    "- One MultiHeadAttention Layer\n",
    "- Followed up a residual layer normalization layer\n",
    "- A positionwise feedforward layer\n",
    "- A final residual layer normalization layer"
   ]
  },
  {
   "cell_type": "code",
   "execution_count": 26,
   "metadata": {},
   "outputs": [],
   "source": [
    "class EncoderLayer(tf.keras.Model):\n",
    "    def __init__(self, d_model, n_heads, d_ff, dropout):\n",
    "        super(EncoderLayer, self).__init__()\n",
    "        \n",
    "        self.mha = MultiHeadAttention(d_model, n_heads)\n",
    "        self.ffn = positionwise_feed_forward_network(d_model, d_ff)\n",
    "        \n",
    "        self.layernorm1 = tf.keras.layers.LayerNormalization(epsilon=1e-6)\n",
    "        self.layernorm2 = tf.keras.layers.LayerNormalization(epsilon=1e-6)\n",
    "        \n",
    "        self.dropout1 = tf.keras.layers.Dropout(rate=dropout)\n",
    "        self.dropout2 = tf.keras.layers.Dropout(rate=dropout)\n",
    "        \n",
    "    def call(self, x, training, mask):\n",
    "        attn_output, _ = self.mha(x, x, x, mask)\n",
    "        attn_output = self.dropout1(attn_output, training=training) #attn_output is (batch_size, inp_seq_len, d_model)\n",
    "        \n",
    "        x = self.layernorm1(x + attn_output)\n",
    "        \n",
    "        ffn_out = self.ffn(x)\n",
    "        ffn_out = self.dropout2(ffn_out, training=training)\n",
    "        \n",
    "        x = self.layernorm2(x + ffn_out)\n",
    "        \n",
    "        return x"
   ]
  },
  {
   "cell_type": "code",
   "execution_count": 59,
   "metadata": {},
   "outputs": [
    {
     "data": {
      "text/plain": [
       "TensorShape([64, 50, 256])"
      ]
     },
     "execution_count": 59,
     "metadata": {},
     "output_type": "execute_result"
    }
   ],
   "source": [
    "sample_enc_layer = EncoderLayer(256, 8, 1024, 0.1)\n",
    "sample_enc_inp = tf.random.normal((64, 50, 256))\n",
    "sample_enc_out = sample_enc_layer(sample_enc_inp, False, None)\n",
    "sample_enc_out.shape"
   ]
  },
  {
   "cell_type": "markdown",
   "metadata": {},
   "source": [
    "#### Decoder Layer\n",
    "\n",
    "One decoder layer contains the following:\n",
    "- One Self-MultiHeadAttention Layer\n",
    "- Followed up a residual layer normalization layer\n",
    "- One Encoder-Decoder MultiHeadAttention layer\n",
    "- Another residual layer-norm layer\n",
    "- A positionwise feedforward layer\n",
    "- A final residual layer normalization layer"
   ]
  },
  {
   "cell_type": "code",
   "execution_count": 27,
   "metadata": {},
   "outputs": [],
   "source": [
    "class DecoderLayer(tf.keras.Model):\n",
    "    def __init__(self, d_model, n_heads, d_ff, dropout):\n",
    "        super(DecoderLayer, self).__init__()\n",
    "        \n",
    "        self.mha1 = MultiHeadAttention(d_model, n_heads)\n",
    "        self.mha2 = MultiHeadAttention(d_model, n_heads)\n",
    "        self.ffn = positionwise_feed_forward_network(d_model, d_ff)\n",
    "        \n",
    "        self.layernorm1 = tf.keras.layers.LayerNormalization(epsilon=1e-6)\n",
    "        self.layernorm2 = tf.keras.layers.LayerNormalization(epsilon=1e-6)\n",
    "        self.layernorm3 = tf.keras.layers.LayerNormalization(epsilon=1e-6)\n",
    "        \n",
    "        self.dropout1 = tf.keras.layers.Dropout(rate=dropout)\n",
    "        self.dropout2 = tf.keras.layers.Dropout(rate=dropout)\n",
    "        self.dropout3 = tf.keras.layers.Dropout(rate=dropout)\n",
    "        \n",
    "    def call(self, x, enc_out, training, padding_mask, look_ahead_mask):\n",
    "        #First is the self-attention layer on the target sequence\n",
    "        attn_output1, attn_weights_block1 = self.mha1(x, x, x, look_ahead_mask)\n",
    "        attn_output1 = self.dropout1(attn_output1, training=training) #attn_output1 is (batch_size, targ_seq_len, d_model)\n",
    "        out1 = self.layernorm1(x + attn_output1)\n",
    "        \n",
    "        #Second is the Encoder-Decoder Attention layer with out1 as the queries and the encoder's output as the keys and the values\n",
    "        attn_output2, attn_weights_block2 = self.mha2(out1, enc_out, enc_out, padding_mask)\n",
    "        attn_output2 = self.dropout2(attn_output2, training=training)\n",
    "        out2 = self.layernorm2(out1 + attn_output2)\n",
    "        \n",
    "        #Third, we have a positionwise feedforward layer\n",
    "        ffn_out = self.ffn(out2)\n",
    "        ffn_out = self.dropout3(ffn_out, training=training)\n",
    "        \n",
    "        #Finally, a residual layer normalization layer\n",
    "        final_out = self.layernorm3(out2 + ffn_out)\n",
    "        \n",
    "        return final_out, attn_weights_block1, attn_weights_block2"
   ]
  },
  {
   "cell_type": "code",
   "execution_count": 61,
   "metadata": {},
   "outputs": [
    {
     "data": {
      "text/plain": [
       "TensorShape([64, 40, 256])"
      ]
     },
     "execution_count": 61,
     "metadata": {},
     "output_type": "execute_result"
    }
   ],
   "source": [
    "sample_dec_layer = DecoderLayer(256, 8, 1024, 0.1)\n",
    "sample_dec_inp = tf.random.normal((64, 40, 256))\n",
    "sample_dec_out, _, _ = sample_dec_layer(sample_dec_inp, sample_enc_out, False, None, None)\n",
    "sample_dec_out.shape"
   ]
  },
  {
   "cell_type": "markdown",
   "metadata": {},
   "source": [
    "#### Encoder\n",
    "\n",
    "An Encoder is the following:\n",
    "- An Embedding Layer\n",
    "- PositionalEncoding Layer\n",
    "- N EncoderLayers"
   ]
  },
  {
   "cell_type": "code",
   "execution_count": 28,
   "metadata": {},
   "outputs": [],
   "source": [
    "class Encoder(tf.keras.Model):\n",
    "    def __init__(self, inp_vocab_size, n_layers, n_heads, d_model, d_ff, dropout):\n",
    "        super(Encoder, self).__init__()\n",
    "        \n",
    "        self.embedding = tf.keras.layers.Embedding(inp_vocab_size, d_model)\n",
    "        self.pe = PositionalEncoding(d_model)\n",
    "                \n",
    "        self.encoder_layers = [EncoderLayer(d_model, n_heads, d_ff, dropout)\n",
    "                               for _ in range(n_layers)]\n",
    "        \n",
    "        self.dropout_layer = tf.keras.layers.Dropout(rate=dropout)\n",
    "\n",
    "        \n",
    "    def call(self, x, training, padding_mask):\n",
    "        x = self.dropout_layer(self.pe(self.embedding(x)), training=training)\n",
    "        \n",
    "        for enc_layer in self.encoder_layers:\n",
    "            x = enc_layer(x, training, padding_mask)\n",
    "        \n",
    "        return x #x is (batch_size, input_seq_len, d_model)"
   ]
  },
  {
   "cell_type": "markdown",
   "metadata": {},
   "source": [
    "#### Decoder\n",
    "\n",
    "A Decoder is the following:\n",
    "- An embedding layer\n",
    "- PositionalEncoding Layer\n",
    "- N DecoderLayers"
   ]
  },
  {
   "cell_type": "code",
   "execution_count": 29,
   "metadata": {},
   "outputs": [],
   "source": [
    "class Decoder(tf.keras.Model):\n",
    "    def __init__(self, targ_vocab_size, n_layers, n_heads, d_model, d_ff, dropout):\n",
    "        super(Decoder, self).__init__()\n",
    "        \n",
    "        self.embedding=tf.keras.layers.Embedding(targ_vocab_size, d_model)\n",
    "        self.pe = PositionalEncoding(d_model)\n",
    "        \n",
    "        self.decoder_layers = [DecoderLayer(d_model, n_heads, d_ff, dropout) \n",
    "                               for _ in range(n_layers)]\n",
    "        \n",
    "        self.dropout_layer = tf.keras.layers.Dropout(rate=dropout)\n",
    "        \n",
    "    def call(self, x, enc_out, training, padding_mask, look_ahead_mask):\n",
    "        x = self.pe(self.embedding(x))\n",
    "        x = self.dropout_layer(x, training=training)\n",
    "        \n",
    "        attn_weights = {}\n",
    "        \n",
    "        for i, dec_layer in enumerate(self.decoder_layers):\n",
    "            x, block1, block2 = dec_layer(x, enc_out, training, padding_mask, look_ahead_mask)\n",
    "            \n",
    "            attn_weights[f\"decoder_layer{i+1}_block1\"] = block1\n",
    "            attn_weights[f\"decoder_layer{i+1}_block2\"] = block2\n",
    "            \n",
    "        #x is (batch_size, targ_seq_len, d_model)\n",
    "        return x, attn_weights "
   ]
  },
  {
   "cell_type": "markdown",
   "metadata": {},
   "source": [
    "#### Transformer\n",
    "\n",
    "The Transformer combines the following layers:\n",
    "- Encoder\n",
    "- Decoder\n",
    "- Final Dense layer with softmax"
   ]
  },
  {
   "cell_type": "code",
   "execution_count": 34,
   "metadata": {},
   "outputs": [],
   "source": [
    "class Transformer(tf.keras.Model):\n",
    "    def __init__(self, inp_vocab_size, targ_vocab_size, n_layers=6, n_heads=8, d_model=512, d_ff=2048, dropout=0.1):\n",
    "        super(Transformer, self).__init__()\n",
    "        \n",
    "        self.encoder = Encoder(inp_vocab_size, n_layers, n_heads, d_model, d_ff, dropout)\n",
    "        self.decoder = Decoder(targ_vocab_size, n_layers, n_heads, d_model, d_ff, dropout)\n",
    "        \n",
    "        self.final_layer = tf.keras.layers.Dense(targ_vocab_size)\n",
    "        \n",
    "    def call(self, inp, targ, training, inp_padding_mask, \n",
    "             look_ahead_mask, targ_padding_mask):\n",
    "        \n",
    "        encoded = self.encoder(inp, training, inp_padding_mask)\n",
    "        decoded, attn_weights = self.decoder(targ, encoded, training, targ_padding_mask, look_ahead_mask)\n",
    "        \n",
    "        final_output = self.final_layer(decoded)\n",
    "        \n",
    "        return final_output, attn_weights"
   ]
  },
  {
   "cell_type": "code",
   "execution_count": 35,
   "metadata": {},
   "outputs": [],
   "source": [
    "sample_transformer = Transformer(inp_vocab_size=1000, targ_vocab_size=1000, n_layers=4,\n",
    "                                 n_heads=8, d_model=256, d_ff=256, dropout=0.2)"
   ]
  },
  {
   "cell_type": "code",
   "execution_count": 36,
   "metadata": {},
   "outputs": [],
   "source": [
    "sample_inp = tf.random.uniform((64, 38), dtype=tf.int64, minval=0, maxval=200)\n",
    "sample_targ = tf.random.uniform((64, 36), dtype=tf.int64, minval=0, maxval=200)"
   ]
  },
  {
   "cell_type": "code",
   "execution_count": 37,
   "metadata": {},
   "outputs": [],
   "source": [
    "sample_out, _ = sample_transformer(sample_inp, sample_targ, training=False, \n",
    "                                   inp_padding_mask=None, look_ahead_mask=None,\n",
    "                                   targ_padding_mask=None)"
   ]
  },
  {
   "cell_type": "code",
   "execution_count": 38,
   "metadata": {},
   "outputs": [
    {
     "data": {
      "text/plain": [
       "TensorShape([64, 36, 1000])"
      ]
     },
     "execution_count": 38,
     "metadata": {},
     "output_type": "execute_result"
    }
   ],
   "source": [
    "sample_out.shape"
   ]
  },
  {
   "cell_type": "code",
   "execution_count": 39,
   "metadata": {},
   "outputs": [
    {
     "name": "stdout",
     "output_type": "stream",
     "text": [
      "Model: \"transformer_1\"\n",
      "_________________________________________________________________\n",
      "Layer (type)                 Output Shape              Param #   \n",
      "=================================================================\n",
      "encoder_1 (Encoder)          multiple                  1839104   \n",
      "_________________________________________________________________\n",
      "decoder_1 (Decoder)          multiple                  2893824   \n",
      "_________________________________________________________________\n",
      "dense_129 (Dense)            multiple                  257000    \n",
      "=================================================================\n",
      "Total params: 4,989,928\n",
      "Trainable params: 4,989,928\n",
      "Non-trainable params: 0\n",
      "_________________________________________________________________\n"
     ]
    }
   ],
   "source": [
    "sample_transformer.summary()"
   ]
  },
  {
   "cell_type": "code",
   "execution_count": null,
   "metadata": {},
   "outputs": [],
   "source": []
  },
  {
   "cell_type": "markdown",
   "metadata": {},
   "source": [
    "#### Custom Learning Rate Scheduler"
   ]
  },
  {
   "cell_type": "code",
   "execution_count": 123,
   "metadata": {},
   "outputs": [],
   "source": [
    "class CustomSchedule(tf.keras.optimizers.schedules.LearningRateSchedule):\n",
    "    def __init__(self, d_model, warmup_steps=4000):\n",
    "        super(CustomSchedule, self).__init__()\n",
    "        self.d_model = tf.cast(d_model, tf.float32)\n",
    "        self.warmup_steps = warmup_steps\n",
    "        \n",
    "    def __call__(self, step):\n",
    "        arg1 = tf.math.rsqrt(step)\n",
    "        arg2 = step * (self.warmup_steps ** (-1.5))\n",
    "        \n",
    "        return tf.math.rsqrt(self.d_model) * tf.minimum(arg1, arg2)"
   ]
  },
  {
   "cell_type": "code",
   "execution_count": 124,
   "metadata": {},
   "outputs": [
    {
     "data": {
      "application/javascript": "/* Put everything inside the global mpl namespace */\nwindow.mpl = {};\n\n\nmpl.get_websocket_type = function() {\n    if (typeof(WebSocket) !== 'undefined') {\n        return WebSocket;\n    } else if (typeof(MozWebSocket) !== 'undefined') {\n        return MozWebSocket;\n    } else {\n        alert('Your browser does not have WebSocket support. ' +\n              'Please try Chrome, Safari or Firefox ≥ 6. ' +\n              'Firefox 4 and 5 are also supported but you ' +\n              'have to enable WebSockets in about:config.');\n    };\n}\n\nmpl.figure = function(figure_id, websocket, ondownload, parent_element) {\n    this.id = figure_id;\n\n    this.ws = websocket;\n\n    this.supports_binary = (this.ws.binaryType != undefined);\n\n    if (!this.supports_binary) {\n        var warnings = document.getElementById(\"mpl-warnings\");\n        if (warnings) {\n            warnings.style.display = 'block';\n            warnings.textContent = (\n                \"This browser does not support binary websocket messages. \" +\n                    \"Performance may be slow.\");\n        }\n    }\n\n    this.imageObj = new Image();\n\n    this.context = undefined;\n    this.message = undefined;\n    this.canvas = undefined;\n    this.rubberband_canvas = undefined;\n    this.rubberband_context = undefined;\n    this.format_dropdown = undefined;\n\n    this.image_mode = 'full';\n\n    this.root = $('<div/>');\n    this._root_extra_style(this.root)\n    this.root.attr('style', 'display: inline-block');\n\n    $(parent_element).append(this.root);\n\n    this._init_header(this);\n    this._init_canvas(this);\n    this._init_toolbar(this);\n\n    var fig = this;\n\n    this.waiting = false;\n\n    this.ws.onopen =  function () {\n            fig.send_message(\"supports_binary\", {value: fig.supports_binary});\n            fig.send_message(\"send_image_mode\", {});\n            if (mpl.ratio != 1) {\n                fig.send_message(\"set_dpi_ratio\", {'dpi_ratio': mpl.ratio});\n            }\n            fig.send_message(\"refresh\", {});\n        }\n\n    this.imageObj.onload = function() {\n            if (fig.image_mode == 'full') {\n                // Full images could contain transparency (where diff images\n                // almost always do), so we need to clear the canvas so that\n                // there is no ghosting.\n                fig.context.clearRect(0, 0, fig.canvas.width, fig.canvas.height);\n            }\n            fig.context.drawImage(fig.imageObj, 0, 0);\n        };\n\n    this.imageObj.onunload = function() {\n        fig.ws.close();\n    }\n\n    this.ws.onmessage = this._make_on_message_function(this);\n\n    this.ondownload = ondownload;\n}\n\nmpl.figure.prototype._init_header = function() {\n    var titlebar = $(\n        '<div class=\"ui-dialog-titlebar ui-widget-header ui-corner-all ' +\n        'ui-helper-clearfix\"/>');\n    var titletext = $(\n        '<div class=\"ui-dialog-title\" style=\"width: 100%; ' +\n        'text-align: center; padding: 3px;\"/>');\n    titlebar.append(titletext)\n    this.root.append(titlebar);\n    this.header = titletext[0];\n}\n\n\n\nmpl.figure.prototype._canvas_extra_style = function(canvas_div) {\n\n}\n\n\nmpl.figure.prototype._root_extra_style = function(canvas_div) {\n\n}\n\nmpl.figure.prototype._init_canvas = function() {\n    var fig = this;\n\n    var canvas_div = $('<div/>');\n\n    canvas_div.attr('style', 'position: relative; clear: both; outline: 0');\n\n    function canvas_keyboard_event(event) {\n        return fig.key_event(event, event['data']);\n    }\n\n    canvas_div.keydown('key_press', canvas_keyboard_event);\n    canvas_div.keyup('key_release', canvas_keyboard_event);\n    this.canvas_div = canvas_div\n    this._canvas_extra_style(canvas_div)\n    this.root.append(canvas_div);\n\n    var canvas = $('<canvas/>');\n    canvas.addClass('mpl-canvas');\n    canvas.attr('style', \"left: 0; top: 0; z-index: 0; outline: 0\")\n\n    this.canvas = canvas[0];\n    this.context = canvas[0].getContext(\"2d\");\n\n    var backingStore = this.context.backingStorePixelRatio ||\n\tthis.context.webkitBackingStorePixelRatio ||\n\tthis.context.mozBackingStorePixelRatio ||\n\tthis.context.msBackingStorePixelRatio ||\n\tthis.context.oBackingStorePixelRatio ||\n\tthis.context.backingStorePixelRatio || 1;\n\n    mpl.ratio = (window.devicePixelRatio || 1) / backingStore;\n\n    var rubberband = $('<canvas/>');\n    rubberband.attr('style', \"position: absolute; left: 0; top: 0; z-index: 1;\")\n\n    var pass_mouse_events = true;\n\n    canvas_div.resizable({\n        start: function(event, ui) {\n            pass_mouse_events = false;\n        },\n        resize: function(event, ui) {\n            fig.request_resize(ui.size.width, ui.size.height);\n        },\n        stop: function(event, ui) {\n            pass_mouse_events = true;\n            fig.request_resize(ui.size.width, ui.size.height);\n        },\n    });\n\n    function mouse_event_fn(event) {\n        if (pass_mouse_events)\n            return fig.mouse_event(event, event['data']);\n    }\n\n    rubberband.mousedown('button_press', mouse_event_fn);\n    rubberband.mouseup('button_release', mouse_event_fn);\n    // Throttle sequential mouse events to 1 every 20ms.\n    rubberband.mousemove('motion_notify', mouse_event_fn);\n\n    rubberband.mouseenter('figure_enter', mouse_event_fn);\n    rubberband.mouseleave('figure_leave', mouse_event_fn);\n\n    canvas_div.on(\"wheel\", function (event) {\n        event = event.originalEvent;\n        event['data'] = 'scroll'\n        if (event.deltaY < 0) {\n            event.step = 1;\n        } else {\n            event.step = -1;\n        }\n        mouse_event_fn(event);\n    });\n\n    canvas_div.append(canvas);\n    canvas_div.append(rubberband);\n\n    this.rubberband = rubberband;\n    this.rubberband_canvas = rubberband[0];\n    this.rubberband_context = rubberband[0].getContext(\"2d\");\n    this.rubberband_context.strokeStyle = \"#000000\";\n\n    this._resize_canvas = function(width, height) {\n        // Keep the size of the canvas, canvas container, and rubber band\n        // canvas in synch.\n        canvas_div.css('width', width)\n        canvas_div.css('height', height)\n\n        canvas.attr('width', width * mpl.ratio);\n        canvas.attr('height', height * mpl.ratio);\n        canvas.attr('style', 'width: ' + width + 'px; height: ' + height + 'px;');\n\n        rubberband.attr('width', width);\n        rubberband.attr('height', height);\n    }\n\n    // Set the figure to an initial 600x600px, this will subsequently be updated\n    // upon first draw.\n    this._resize_canvas(600, 600);\n\n    // Disable right mouse context menu.\n    $(this.rubberband_canvas).bind(\"contextmenu\",function(e){\n        return false;\n    });\n\n    function set_focus () {\n        canvas.focus();\n        canvas_div.focus();\n    }\n\n    window.setTimeout(set_focus, 100);\n}\n\nmpl.figure.prototype._init_toolbar = function() {\n    var fig = this;\n\n    var nav_element = $('<div/>');\n    nav_element.attr('style', 'width: 100%');\n    this.root.append(nav_element);\n\n    // Define a callback function for later on.\n    function toolbar_event(event) {\n        return fig.toolbar_button_onclick(event['data']);\n    }\n    function toolbar_mouse_event(event) {\n        return fig.toolbar_button_onmouseover(event['data']);\n    }\n\n    for(var toolbar_ind in mpl.toolbar_items) {\n        var name = mpl.toolbar_items[toolbar_ind][0];\n        var tooltip = mpl.toolbar_items[toolbar_ind][1];\n        var image = mpl.toolbar_items[toolbar_ind][2];\n        var method_name = mpl.toolbar_items[toolbar_ind][3];\n\n        if (!name) {\n            // put a spacer in here.\n            continue;\n        }\n        var button = $('<button/>');\n        button.addClass('ui-button ui-widget ui-state-default ui-corner-all ' +\n                        'ui-button-icon-only');\n        button.attr('role', 'button');\n        button.attr('aria-disabled', 'false');\n        button.click(method_name, toolbar_event);\n        button.mouseover(tooltip, toolbar_mouse_event);\n\n        var icon_img = $('<span/>');\n        icon_img.addClass('ui-button-icon-primary ui-icon');\n        icon_img.addClass(image);\n        icon_img.addClass('ui-corner-all');\n\n        var tooltip_span = $('<span/>');\n        tooltip_span.addClass('ui-button-text');\n        tooltip_span.html(tooltip);\n\n        button.append(icon_img);\n        button.append(tooltip_span);\n\n        nav_element.append(button);\n    }\n\n    var fmt_picker_span = $('<span/>');\n\n    var fmt_picker = $('<select/>');\n    fmt_picker.addClass('mpl-toolbar-option ui-widget ui-widget-content');\n    fmt_picker_span.append(fmt_picker);\n    nav_element.append(fmt_picker_span);\n    this.format_dropdown = fmt_picker[0];\n\n    for (var ind in mpl.extensions) {\n        var fmt = mpl.extensions[ind];\n        var option = $(\n            '<option/>', {selected: fmt === mpl.default_extension}).html(fmt);\n        fmt_picker.append(option);\n    }\n\n    // Add hover states to the ui-buttons\n    $( \".ui-button\" ).hover(\n        function() { $(this).addClass(\"ui-state-hover\");},\n        function() { $(this).removeClass(\"ui-state-hover\");}\n    );\n\n    var status_bar = $('<span class=\"mpl-message\"/>');\n    nav_element.append(status_bar);\n    this.message = status_bar[0];\n}\n\nmpl.figure.prototype.request_resize = function(x_pixels, y_pixels) {\n    // Request matplotlib to resize the figure. Matplotlib will then trigger a resize in the client,\n    // which will in turn request a refresh of the image.\n    this.send_message('resize', {'width': x_pixels, 'height': y_pixels});\n}\n\nmpl.figure.prototype.send_message = function(type, properties) {\n    properties['type'] = type;\n    properties['figure_id'] = this.id;\n    this.ws.send(JSON.stringify(properties));\n}\n\nmpl.figure.prototype.send_draw_message = function() {\n    if (!this.waiting) {\n        this.waiting = true;\n        this.ws.send(JSON.stringify({type: \"draw\", figure_id: this.id}));\n    }\n}\n\n\nmpl.figure.prototype.handle_save = function(fig, msg) {\n    var format_dropdown = fig.format_dropdown;\n    var format = format_dropdown.options[format_dropdown.selectedIndex].value;\n    fig.ondownload(fig, format);\n}\n\n\nmpl.figure.prototype.handle_resize = function(fig, msg) {\n    var size = msg['size'];\n    if (size[0] != fig.canvas.width || size[1] != fig.canvas.height) {\n        fig._resize_canvas(size[0], size[1]);\n        fig.send_message(\"refresh\", {});\n    };\n}\n\nmpl.figure.prototype.handle_rubberband = function(fig, msg) {\n    var x0 = msg['x0'] / mpl.ratio;\n    var y0 = (fig.canvas.height - msg['y0']) / mpl.ratio;\n    var x1 = msg['x1'] / mpl.ratio;\n    var y1 = (fig.canvas.height - msg['y1']) / mpl.ratio;\n    x0 = Math.floor(x0) + 0.5;\n    y0 = Math.floor(y0) + 0.5;\n    x1 = Math.floor(x1) + 0.5;\n    y1 = Math.floor(y1) + 0.5;\n    var min_x = Math.min(x0, x1);\n    var min_y = Math.min(y0, y1);\n    var width = Math.abs(x1 - x0);\n    var height = Math.abs(y1 - y0);\n\n    fig.rubberband_context.clearRect(\n        0, 0, fig.canvas.width / mpl.ratio, fig.canvas.height / mpl.ratio);\n\n    fig.rubberband_context.strokeRect(min_x, min_y, width, height);\n}\n\nmpl.figure.prototype.handle_figure_label = function(fig, msg) {\n    // Updates the figure title.\n    fig.header.textContent = msg['label'];\n}\n\nmpl.figure.prototype.handle_cursor = function(fig, msg) {\n    var cursor = msg['cursor'];\n    switch(cursor)\n    {\n    case 0:\n        cursor = 'pointer';\n        break;\n    case 1:\n        cursor = 'default';\n        break;\n    case 2:\n        cursor = 'crosshair';\n        break;\n    case 3:\n        cursor = 'move';\n        break;\n    }\n    fig.rubberband_canvas.style.cursor = cursor;\n}\n\nmpl.figure.prototype.handle_message = function(fig, msg) {\n    fig.message.textContent = msg['message'];\n}\n\nmpl.figure.prototype.handle_draw = function(fig, msg) {\n    // Request the server to send over a new figure.\n    fig.send_draw_message();\n}\n\nmpl.figure.prototype.handle_image_mode = function(fig, msg) {\n    fig.image_mode = msg['mode'];\n}\n\nmpl.figure.prototype.updated_canvas_event = function() {\n    // Called whenever the canvas gets updated.\n    this.send_message(\"ack\", {});\n}\n\n// A function to construct a web socket function for onmessage handling.\n// Called in the figure constructor.\nmpl.figure.prototype._make_on_message_function = function(fig) {\n    return function socket_on_message(evt) {\n        if (evt.data instanceof Blob) {\n            /* FIXME: We get \"Resource interpreted as Image but\n             * transferred with MIME type text/plain:\" errors on\n             * Chrome.  But how to set the MIME type?  It doesn't seem\n             * to be part of the websocket stream */\n            evt.data.type = \"image/png\";\n\n            /* Free the memory for the previous frames */\n            if (fig.imageObj.src) {\n                (window.URL || window.webkitURL).revokeObjectURL(\n                    fig.imageObj.src);\n            }\n\n            fig.imageObj.src = (window.URL || window.webkitURL).createObjectURL(\n                evt.data);\n            fig.updated_canvas_event();\n            fig.waiting = false;\n            return;\n        }\n        else if (typeof evt.data === 'string' && evt.data.slice(0, 21) == \"data:image/png;base64\") {\n            fig.imageObj.src = evt.data;\n            fig.updated_canvas_event();\n            fig.waiting = false;\n            return;\n        }\n\n        var msg = JSON.parse(evt.data);\n        var msg_type = msg['type'];\n\n        // Call the  \"handle_{type}\" callback, which takes\n        // the figure and JSON message as its only arguments.\n        try {\n            var callback = fig[\"handle_\" + msg_type];\n        } catch (e) {\n            console.log(\"No handler for the '\" + msg_type + \"' message type: \", msg);\n            return;\n        }\n\n        if (callback) {\n            try {\n                // console.log(\"Handling '\" + msg_type + \"' message: \", msg);\n                callback(fig, msg);\n            } catch (e) {\n                console.log(\"Exception inside the 'handler_\" + msg_type + \"' callback:\", e, e.stack, msg);\n            }\n        }\n    };\n}\n\n// from http://stackoverflow.com/questions/1114465/getting-mouse-location-in-canvas\nmpl.findpos = function(e) {\n    //this section is from http://www.quirksmode.org/js/events_properties.html\n    var targ;\n    if (!e)\n        e = window.event;\n    if (e.target)\n        targ = e.target;\n    else if (e.srcElement)\n        targ = e.srcElement;\n    if (targ.nodeType == 3) // defeat Safari bug\n        targ = targ.parentNode;\n\n    // jQuery normalizes the pageX and pageY\n    // pageX,Y are the mouse positions relative to the document\n    // offset() returns the position of the element relative to the document\n    var x = e.pageX - $(targ).offset().left;\n    var y = e.pageY - $(targ).offset().top;\n\n    return {\"x\": x, \"y\": y};\n};\n\n/*\n * return a copy of an object with only non-object keys\n * we need this to avoid circular references\n * http://stackoverflow.com/a/24161582/3208463\n */\nfunction simpleKeys (original) {\n  return Object.keys(original).reduce(function (obj, key) {\n    if (typeof original[key] !== 'object')\n        obj[key] = original[key]\n    return obj;\n  }, {});\n}\n\nmpl.figure.prototype.mouse_event = function(event, name) {\n    var canvas_pos = mpl.findpos(event)\n\n    if (name === 'button_press')\n    {\n        this.canvas.focus();\n        this.canvas_div.focus();\n    }\n\n    var x = canvas_pos.x * mpl.ratio;\n    var y = canvas_pos.y * mpl.ratio;\n\n    this.send_message(name, {x: x, y: y, button: event.button,\n                             step: event.step,\n                             guiEvent: simpleKeys(event)});\n\n    /* This prevents the web browser from automatically changing to\n     * the text insertion cursor when the button is pressed.  We want\n     * to control all of the cursor setting manually through the\n     * 'cursor' event from matplotlib */\n    event.preventDefault();\n    return false;\n}\n\nmpl.figure.prototype._key_event_extra = function(event, name) {\n    // Handle any extra behaviour associated with a key event\n}\n\nmpl.figure.prototype.key_event = function(event, name) {\n\n    // Prevent repeat events\n    if (name == 'key_press')\n    {\n        if (event.which === this._key)\n            return;\n        else\n            this._key = event.which;\n    }\n    if (name == 'key_release')\n        this._key = null;\n\n    var value = '';\n    if (event.ctrlKey && event.which != 17)\n        value += \"ctrl+\";\n    if (event.altKey && event.which != 18)\n        value += \"alt+\";\n    if (event.shiftKey && event.which != 16)\n        value += \"shift+\";\n\n    value += 'k';\n    value += event.which.toString();\n\n    this._key_event_extra(event, name);\n\n    this.send_message(name, {key: value,\n                             guiEvent: simpleKeys(event)});\n    return false;\n}\n\nmpl.figure.prototype.toolbar_button_onclick = function(name) {\n    if (name == 'download') {\n        this.handle_save(this, null);\n    } else {\n        this.send_message(\"toolbar_button\", {name: name});\n    }\n};\n\nmpl.figure.prototype.toolbar_button_onmouseover = function(tooltip) {\n    this.message.textContent = tooltip;\n};\nmpl.toolbar_items = [[\"Home\", \"Reset original view\", \"fa fa-home icon-home\", \"home\"], [\"Back\", \"Back to previous view\", \"fa fa-arrow-left icon-arrow-left\", \"back\"], [\"Forward\", \"Forward to next view\", \"fa fa-arrow-right icon-arrow-right\", \"forward\"], [\"\", \"\", \"\", \"\"], [\"Pan\", \"Pan axes with left mouse, zoom with right\", \"fa fa-arrows icon-move\", \"pan\"], [\"Zoom\", \"Zoom to rectangle\", \"fa fa-square-o icon-check-empty\", \"zoom\"], [\"\", \"\", \"\", \"\"], [\"Download\", \"Download plot\", \"fa fa-floppy-o icon-save\", \"download\"]];\n\nmpl.extensions = [\"eps\", \"jpeg\", \"pdf\", \"png\", \"ps\", \"raw\", \"svg\", \"tif\"];\n\nmpl.default_extension = \"png\";var comm_websocket_adapter = function(comm) {\n    // Create a \"websocket\"-like object which calls the given IPython comm\n    // object with the appropriate methods. Currently this is a non binary\n    // socket, so there is still some room for performance tuning.\n    var ws = {};\n\n    ws.close = function() {\n        comm.close()\n    };\n    ws.send = function(m) {\n        //console.log('sending', m);\n        comm.send(m);\n    };\n    // Register the callback with on_msg.\n    comm.on_msg(function(msg) {\n        //console.log('receiving', msg['content']['data'], msg);\n        // Pass the mpl event to the overridden (by mpl) onmessage function.\n        ws.onmessage(msg['content']['data'])\n    });\n    return ws;\n}\n\nmpl.mpl_figure_comm = function(comm, msg) {\n    // This is the function which gets called when the mpl process\n    // starts-up an IPython Comm through the \"matplotlib\" channel.\n\n    var id = msg.content.data.id;\n    // Get hold of the div created by the display call when the Comm\n    // socket was opened in Python.\n    var element = $(\"#\" + id);\n    var ws_proxy = comm_websocket_adapter(comm)\n\n    function ondownload(figure, format) {\n        window.open(figure.imageObj.src);\n    }\n\n    var fig = new mpl.figure(id, ws_proxy,\n                           ondownload,\n                           element.get(0));\n\n    // Call onopen now - mpl needs it, as it is assuming we've passed it a real\n    // web socket which is closed, not our websocket->open comm proxy.\n    ws_proxy.onopen();\n\n    fig.parent_element = element.get(0);\n    fig.cell_info = mpl.find_output_cell(\"<div id='\" + id + \"'></div>\");\n    if (!fig.cell_info) {\n        console.error(\"Failed to find cell for figure\", id, fig);\n        return;\n    }\n\n    var output_index = fig.cell_info[2]\n    var cell = fig.cell_info[0];\n\n};\n\nmpl.figure.prototype.handle_close = function(fig, msg) {\n    var width = fig.canvas.width/mpl.ratio\n    fig.root.unbind('remove')\n\n    // Update the output cell to use the data from the current canvas.\n    fig.push_to_output();\n    var dataURL = fig.canvas.toDataURL();\n    // Re-enable the keyboard manager in IPython - without this line, in FF,\n    // the notebook keyboard shortcuts fail.\n    IPython.keyboard_manager.enable()\n    $(fig.parent_element).html('<img src=\"' + dataURL + '\" width=\"' + width + '\">');\n    fig.close_ws(fig, msg);\n}\n\nmpl.figure.prototype.close_ws = function(fig, msg){\n    fig.send_message('closing', msg);\n    // fig.ws.close()\n}\n\nmpl.figure.prototype.push_to_output = function(remove_interactive) {\n    // Turn the data on the canvas into data in the output cell.\n    var width = this.canvas.width/mpl.ratio\n    var dataURL = this.canvas.toDataURL();\n    this.cell_info[1]['text/html'] = '<img src=\"' + dataURL + '\" width=\"' + width + '\">';\n}\n\nmpl.figure.prototype.updated_canvas_event = function() {\n    // Tell IPython that the notebook contents must change.\n    IPython.notebook.set_dirty(true);\n    this.send_message(\"ack\", {});\n    var fig = this;\n    // Wait a second, then push the new image to the DOM so\n    // that it is saved nicely (might be nice to debounce this).\n    setTimeout(function () { fig.push_to_output() }, 1000);\n}\n\nmpl.figure.prototype._init_toolbar = function() {\n    var fig = this;\n\n    var nav_element = $('<div/>');\n    nav_element.attr('style', 'width: 100%');\n    this.root.append(nav_element);\n\n    // Define a callback function for later on.\n    function toolbar_event(event) {\n        return fig.toolbar_button_onclick(event['data']);\n    }\n    function toolbar_mouse_event(event) {\n        return fig.toolbar_button_onmouseover(event['data']);\n    }\n\n    for(var toolbar_ind in mpl.toolbar_items){\n        var name = mpl.toolbar_items[toolbar_ind][0];\n        var tooltip = mpl.toolbar_items[toolbar_ind][1];\n        var image = mpl.toolbar_items[toolbar_ind][2];\n        var method_name = mpl.toolbar_items[toolbar_ind][3];\n\n        if (!name) { continue; };\n\n        var button = $('<button class=\"btn btn-default\" href=\"#\" title=\"' + name + '\"><i class=\"fa ' + image + ' fa-lg\"></i></button>');\n        button.click(method_name, toolbar_event);\n        button.mouseover(tooltip, toolbar_mouse_event);\n        nav_element.append(button);\n    }\n\n    // Add the status bar.\n    var status_bar = $('<span class=\"mpl-message\" style=\"text-align:right; float: right;\"/>');\n    nav_element.append(status_bar);\n    this.message = status_bar[0];\n\n    // Add the close button to the window.\n    var buttongrp = $('<div class=\"btn-group inline pull-right\"></div>');\n    var button = $('<button class=\"btn btn-mini btn-primary\" href=\"#\" title=\"Stop Interaction\"><i class=\"fa fa-power-off icon-remove icon-large\"></i></button>');\n    button.click(function (evt) { fig.handle_close(fig, {}); } );\n    button.mouseover('Stop Interaction', toolbar_mouse_event);\n    buttongrp.append(button);\n    var titlebar = this.root.find($('.ui-dialog-titlebar'));\n    titlebar.prepend(buttongrp);\n}\n\nmpl.figure.prototype._root_extra_style = function(el){\n    var fig = this\n    el.on(\"remove\", function(){\n\tfig.close_ws(fig, {});\n    });\n}\n\nmpl.figure.prototype._canvas_extra_style = function(el){\n    // this is important to make the div 'focusable\n    el.attr('tabindex', 0)\n    // reach out to IPython and tell the keyboard manager to turn it's self\n    // off when our div gets focus\n\n    // location in version 3\n    if (IPython.notebook.keyboard_manager) {\n        IPython.notebook.keyboard_manager.register_events(el);\n    }\n    else {\n        // location in version 2\n        IPython.keyboard_manager.register_events(el);\n    }\n\n}\n\nmpl.figure.prototype._key_event_extra = function(event, name) {\n    var manager = IPython.notebook.keyboard_manager;\n    if (!manager)\n        manager = IPython.keyboard_manager;\n\n    // Check for shift+enter\n    if (event.shiftKey && event.which == 13) {\n        this.canvas_div.blur();\n        // select the cell after this one\n        var index = IPython.notebook.find_cell_index(this.cell_info[0]);\n        IPython.notebook.select(index + 1);\n    }\n}\n\nmpl.figure.prototype.handle_save = function(fig, msg) {\n    fig.ondownload(fig, null);\n}\n\n\nmpl.find_output_cell = function(html_output) {\n    // Return the cell and output element which can be found *uniquely* in the notebook.\n    // Note - this is a bit hacky, but it is done because the \"notebook_saving.Notebook\"\n    // IPython event is triggered only after the cells have been serialised, which for\n    // our purposes (turning an active figure into a static one), is too late.\n    var cells = IPython.notebook.get_cells();\n    var ncells = cells.length;\n    for (var i=0; i<ncells; i++) {\n        var cell = cells[i];\n        if (cell.cell_type === 'code'){\n            for (var j=0; j<cell.output_area.outputs.length; j++) {\n                var data = cell.output_area.outputs[j];\n                if (data.data) {\n                    // IPython >= 3 moved mimebundle to data attribute of output\n                    data = data.data;\n                }\n                if (data['text/html'] == html_output) {\n                    return [cell, data, j];\n                }\n            }\n        }\n    }\n}\n\n// Register the function which deals with the matplotlib target/channel.\n// The kernel may be null if the page has been refreshed.\nif (IPython.notebook.kernel != null) {\n    IPython.notebook.kernel.comm_manager.register_target('matplotlib', mpl.mpl_figure_comm);\n}\n",
      "text/plain": [
       "<IPython.core.display.Javascript object>"
      ]
     },
     "metadata": {},
     "output_type": "display_data"
    },
    {
     "data": {
      "text/html": [
       "<img src=\"data:image/png;base64,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\" width=\"639.9999861283738\">"
      ],
      "text/plain": [
       "<IPython.core.display.HTML object>"
      ]
     },
     "metadata": {},
     "output_type": "display_data"
    },
    {
     "data": {
      "text/plain": [
       "Text(0.5, 0, 'Train Step')"
      ]
     },
     "execution_count": 124,
     "metadata": {},
     "output_type": "execute_result"
    }
   ],
   "source": [
    "temp_learning_rate_schedule = CustomSchedule(256)\n",
    "\n",
    "plt.plot(temp_learning_rate_schedule(tf.range(40000, dtype=tf.float32)))\n",
    "plt.ylabel(\"Learning Rate\")\n",
    "plt.xlabel(\"Train Step\")"
   ]
  },
  {
   "cell_type": "markdown",
   "metadata": {},
   "source": [
    "We can see that our custom learning rate scheduler linearly warms up for a few epochs and then decreases the learning according to a `sqrt` function."
   ]
  },
  {
   "cell_type": "code",
   "execution_count": null,
   "metadata": {},
   "outputs": [],
   "source": [
    "###"
   ]
  },
  {
   "cell_type": "markdown",
   "metadata": {},
   "source": [
    "#### Define optimizer and loss function"
   ]
  },
  {
   "cell_type": "code",
   "execution_count": 150,
   "metadata": {},
   "outputs": [],
   "source": [
    "num_layers = 4\n",
    "d_model = 256\n",
    "d_ff = 256\n",
    "n_heads = 8\n",
    "dropout_rate = 0.1"
   ]
  },
  {
   "cell_type": "code",
   "execution_count": 151,
   "metadata": {},
   "outputs": [],
   "source": [
    "optimizer = tf.keras.optimizers.Adam(CustomSchedule(d_model), beta_1=0.9, beta_2=0.98, epsilon=1e-9)\n",
    "loss_object = tf.keras.losses.SparseCategoricalCrossentropy(from_logits=True, reduction='none')"
   ]
  },
  {
   "cell_type": "code",
   "execution_count": 152,
   "metadata": {},
   "outputs": [],
   "source": [
    "def loss_function(real, pred):\n",
    "    mask = tf.math.logical_not(tf.math.equal(real, 0))\n",
    "    \n",
    "    loss_ = loss_object(real, pred)\n",
    "    mask = tf.cast(mask, dtype=loss_.dtype)\n",
    "    \n",
    "    loss = loss_ * mask\n",
    "    return tf.reduce_mean(loss)"
   ]
  },
  {
   "cell_type": "code",
   "execution_count": 153,
   "metadata": {},
   "outputs": [],
   "source": [
    "transformer = Transformer(vocab_inp_size, vocab_targ_size, n_layers=num_layers, n_heads=n_heads,\n",
    "                          d_model=d_model, d_ff=d_ff, dropout=dropout_rate)"
   ]
  },
  {
   "cell_type": "code",
   "execution_count": 154,
   "metadata": {},
   "outputs": [],
   "source": [
    "def create_masks(inp, targ):\n",
    "    \n",
    "    inp_pad_mask = create_padding_mask(inp)\n",
    "    \n",
    "    dec_pad_mask = create_padding_mask(inp)\n",
    "    \n",
    "    targ_look_ahead_mask = create_look_ahead_mask(tf.shape(targ)[1])\n",
    "    targ_padding_mask = create_padding_mask(targ)\n",
    "    combined_mask = tf.maximum(targ_padding_mask, targ_look_ahead_mask)\n",
    "    \n",
    "    return inp_pad_mask, combined_mask, dec_pad_mask"
   ]
  },
  {
   "cell_type": "code",
   "execution_count": 155,
   "metadata": {},
   "outputs": [],
   "source": [
    "#create_masks(sample_inp, sample_targ)"
   ]
  },
  {
   "cell_type": "code",
   "execution_count": 156,
   "metadata": {},
   "outputs": [],
   "source": [
    "checkpoint_path = \"./checkpoints/train\"\n",
    "\n",
    "ckpt = tf.train.Checkpoint(transformer=transformer,\n",
    "                           optimizer=optimizer)\n",
    "\n",
    "ckpt_manager = tf.train.CheckpointManager(ckpt, checkpoint_path, max_to_keep=5)\n",
    "\n",
    "# # if a checkpoint exists, restore the latest checkpoint.\n",
    "# if ckpt_manager.latest_checkpoint:\n",
    "#   ckpt.restore(ckpt_manager.latest_checkpoint)\n",
    "#   print ('Latest checkpoint restored!!')"
   ]
  },
  {
   "cell_type": "code",
   "execution_count": 157,
   "metadata": {},
   "outputs": [],
   "source": [
    "train_loss = tf.keras.metrics.Mean(name='train_loss')\n",
    "train_accuracy = tf.keras.metrics.SparseCategoricalAccuracy(\n",
    "    name='train_accuracy')"
   ]
  },
  {
   "cell_type": "code",
   "execution_count": 158,
   "metadata": {},
   "outputs": [],
   "source": [
    "EPOCHS = 30"
   ]
  },
  {
   "cell_type": "markdown",
   "metadata": {},
   "source": [
    "#### Define custom training loops in Tensorflow 2"
   ]
  },
  {
   "cell_type": "code",
   "execution_count": 159,
   "metadata": {},
   "outputs": [],
   "source": [
    "@tf.function\n",
    "def train_step(inp, targ):\n",
    "    targ_inp = targ[:, :-1]\n",
    "    targ_real = targ[:, 1:]\n",
    "\n",
    "    inp_padding_mask, look_ahead_mask, targ_padding_mask = create_masks(inp, targ_inp)\n",
    "    \n",
    "    with tf.GradientTape() as tape:\n",
    "        preds, _ = transformer(inp, targ_inp, True, \n",
    "                               inp_padding_mask,\n",
    "                               look_ahead_mask,\n",
    "                               targ_padding_mask)\n",
    "        \n",
    "        loss = loss_function(targ_real, preds)\n",
    "    \n",
    "    gradients = tape.gradient(loss, transformer.trainable_variables)\n",
    "    optimizer.apply_gradients(zip(gradients, transformer.trainable_variables))\n",
    "    \n",
    "    train_loss(loss)\n",
    "    train_accuracy(targ_real, preds)\n",
    "        "
   ]
  },
  {
   "cell_type": "code",
   "execution_count": 160,
   "metadata": {},
   "outputs": [],
   "source": [
    "def train(data, epochs=20):\n",
    "    for epoch in range(epochs):\n",
    "        start = time.time()\n",
    "        \n",
    "        train_loss.reset_states()\n",
    "        train_accuracy.reset_states()\n",
    "        \n",
    "        for i, (inp, targ) in enumerate(data):\n",
    "            train_step(inp, targ)\n",
    "            \n",
    "            if (i % 100) == 0:\n",
    "                print(f\"Epoch: {epoch+1} Batch: {i} Loss: {train_loss.result()} Accuracy {train_accuracy.result()}\")\n",
    "        \n",
    "        if (epoch + 1) % 2 == 0:\n",
    "            ckpt_save_path = ckpt_manager.save()\n",
    "            print(f\"Saving checkpoint for epoch {epoch+1} at {ckpt_save_path}\")\n",
    "            \n",
    "        print ('Epoch {} Loss {:.4f} Accuracy {:.4f}'.format(epoch + 1, \n",
    "                                                train_loss.result(), \n",
    "                                                train_accuracy.result()))\n",
    "        \n",
    "        print ('Time taken for 1 epoch: {} secs\\n'.format(time.time() - start))\n",
    "            "
   ]
  },
  {
   "cell_type": "code",
   "execution_count": 161,
   "metadata": {},
   "outputs": [
    {
     "name": "stdout",
     "output_type": "stream",
     "text": [
      "Epoch: 1 Batch: 0 Loss: 3.2545416355133057 Accuracy 0.0\n",
      "Epoch: 1 Batch: 100 Loss: 3.3055946826934814 Accuracy 0.044884487986564636\n",
      "Epoch: 1 Batch: 200 Loss: 3.117581844329834 Accuracy 0.05571102723479271\n",
      "Epoch: 1 Batch: 300 Loss: 2.905153274536133 Accuracy 0.05935077369213104\n",
      "Epoch 1 Loss 2.7483 Accuracy 0.0614\n",
      "Time taken for 1 epoch: 85.8241217136383 secs\n",
      "\n",
      "Epoch: 2 Batch: 0 Loss: 1.9612849950790405 Accuracy 0.08541666716337204\n",
      "Epoch: 2 Batch: 100 Loss: 1.8957637548446655 Accuracy 0.09647276997566223\n",
      "Epoch: 2 Batch: 200 Loss: 1.8124017715454102 Accuracy 0.11388370394706726\n",
      "Epoch: 2 Batch: 300 Loss: 1.7435333728790283 Accuracy 0.1252526342868805\n",
      "Saving checkpoint for epoch 2 at ./checkpoints/train\\ckpt-1\n",
      "Epoch 2 Loss 1.7008 Accuracy 0.1308\n",
      "Time taken for 1 epoch: 72.60078859329224 secs\n",
      "\n",
      "Epoch: 3 Batch: 0 Loss: 1.448118805885315 Accuracy 0.15729166567325592\n",
      "Epoch: 3 Batch: 100 Loss: 1.4425849914550781 Accuracy 0.1556105613708496\n",
      "Epoch: 3 Batch: 200 Loss: 1.4027537107467651 Accuracy 0.15853026509284973\n",
      "Epoch: 3 Batch: 300 Loss: 1.3718199729919434 Accuracy 0.16179056465625763\n",
      "Epoch 3 Loss 1.3494 Accuracy 0.1641\n",
      "Time taken for 1 epoch: 69.07078051567078 secs\n",
      "\n",
      "Epoch: 4 Batch: 0 Loss: 1.193020224571228 Accuracy 0.1770833283662796\n",
      "Epoch: 4 Batch: 100 Loss: 1.1702579259872437 Accuracy 0.18333333730697632\n",
      "Epoch: 4 Batch: 200 Loss: 1.151535153388977 Accuracy 0.1876451075077057\n",
      "Epoch: 4 Batch: 300 Loss: 1.132011890411377 Accuracy 0.1918431669473648\n",
      "Saving checkpoint for epoch 4 at ./checkpoints/train\\ckpt-2\n",
      "Epoch 4 Loss 1.1174 Accuracy 0.1945\n",
      "Time taken for 1 epoch: 73.56405878067017 secs\n",
      "\n",
      "Epoch: 5 Batch: 0 Loss: 0.9799267053604126 Accuracy 0.21041665971279144\n",
      "Epoch: 5 Batch: 100 Loss: 0.9816262125968933 Accuracy 0.21539810299873352\n",
      "Epoch: 5 Batch: 200 Loss: 0.960160493850708 Accuracy 0.22010260820388794\n",
      "Epoch: 5 Batch: 300 Loss: 0.9423026442527771 Accuracy 0.22438053786754608\n",
      "Epoch 5 Loss 0.9315 Accuracy 0.2270\n",
      "Time taken for 1 epoch: 68.90333151817322 secs\n",
      "\n",
      "Epoch: 6 Batch: 0 Loss: 0.7978183627128601 Accuracy 0.2447916716337204\n",
      "Epoch: 6 Batch: 100 Loss: 0.8184576034545898 Accuracy 0.2426155060529709\n",
      "Epoch: 6 Batch: 200 Loss: 0.8044509291648865 Accuracy 0.2461753785610199\n",
      "Epoch: 6 Batch: 300 Loss: 0.793649435043335 Accuracy 0.24988925457000732\n",
      "Saving checkpoint for epoch 6 at ./checkpoints/train\\ckpt-3\n",
      "Epoch 6 Loss 0.7902 Accuracy 0.2513\n",
      "Time taken for 1 epoch: 75.80186676979065 secs\n",
      "\n",
      "Epoch: 7 Batch: 0 Loss: 0.7565462589263916 Accuracy 0.2562499940395355\n",
      "Epoch: 7 Batch: 100 Loss: 0.6990764141082764 Accuracy 0.2643873691558838\n",
      "Epoch: 7 Batch: 200 Loss: 0.6902764439582825 Accuracy 0.265536904335022\n",
      "Epoch: 7 Batch: 300 Loss: 0.6863211989402771 Accuracy 0.2665732204914093\n",
      "Epoch 7 Loss 0.6830 Accuracy 0.2678\n",
      "Time taken for 1 epoch: 76.19971013069153 secs\n",
      "\n",
      "Epoch: 8 Batch: 0 Loss: 0.6209009885787964 Accuracy 0.26249998807907104\n",
      "Epoch: 8 Batch: 100 Loss: 0.6134580969810486 Accuracy 0.2759488523006439\n",
      "Epoch: 8 Batch: 200 Loss: 0.611487090587616 Accuracy 0.2766532003879547\n",
      "Epoch: 8 Batch: 300 Loss: 0.6121023297309875 Accuracy 0.2774328589439392\n",
      "Saving checkpoint for epoch 8 at ./checkpoints/train\\ckpt-4\n",
      "Epoch 8 Loss 0.6150 Accuracy 0.2779\n",
      "Time taken for 1 epoch: 79.38087010383606 secs\n",
      "\n",
      "Epoch: 9 Batch: 0 Loss: 0.6151642203330994 Accuracy 0.2562499940395355\n",
      "Epoch: 9 Batch: 100 Loss: 0.5614530444145203 Accuracy 0.2820647656917572\n",
      "Epoch: 9 Batch: 200 Loss: 0.5609543323516846 Accuracy 0.28308457136154175\n",
      "Epoch: 9 Batch: 300 Loss: 0.565123975276947 Accuracy 0.28365516662597656\n",
      "Epoch 9 Loss 0.5684 Accuracy 0.2841\n",
      "Time taken for 1 epoch: 75.64427065849304 secs\n",
      "\n",
      "Epoch: 10 Batch: 0 Loss: 0.5069037079811096 Accuracy 0.2708333432674408\n",
      "Epoch: 10 Batch: 100 Loss: 0.49649694561958313 Accuracy 0.29355403780937195\n",
      "Epoch: 10 Batch: 200 Loss: 0.5119678378105164 Accuracy 0.29160967469215393\n",
      "Epoch: 10 Batch: 300 Loss: 0.5212950110435486 Accuracy 0.2908983826637268\n",
      "Saving checkpoint for epoch 10 at ./checkpoints/train\\ckpt-5\n",
      "Epoch 10 Loss 0.5233 Accuracy 0.2909\n",
      "Time taken for 1 epoch: 79.60404515266418 secs\n",
      "\n",
      "Epoch: 11 Batch: 0 Loss: 0.425753116607666 Accuracy 0.28854167461395264\n",
      "Epoch: 11 Batch: 100 Loss: 0.4646446406841278 Accuracy 0.29878300428390503\n",
      "Epoch: 11 Batch: 200 Loss: 0.481685608625412 Accuracy 0.2973155081272125\n",
      "Epoch: 11 Batch: 300 Loss: 0.491411417722702 Accuracy 0.2963005304336548\n",
      "Epoch 11 Loss 0.4970 Accuracy 0.2953\n",
      "Time taken for 1 epoch: 75.12689566612244 secs\n",
      "\n",
      "Epoch: 12 Batch: 0 Loss: 0.41343405842781067 Accuracy 0.28854167461395264\n",
      "Epoch: 12 Batch: 100 Loss: 0.41737255454063416 Accuracy 0.305414617061615\n",
      "Epoch: 12 Batch: 200 Loss: 0.43066877126693726 Accuracy 0.30460718274116516\n",
      "Epoch: 12 Batch: 300 Loss: 0.439787358045578 Accuracy 0.30378252267837524\n",
      "Saving checkpoint for epoch 12 at ./checkpoints/train\\ckpt-6\n",
      "Epoch 12 Loss 0.4431 Accuracy 0.3043\n",
      "Time taken for 1 epoch: 78.53112483024597 secs\n",
      "\n",
      "Epoch: 13 Batch: 0 Loss: 0.3550470173358917 Accuracy 0.30937498807907104\n",
      "Epoch: 13 Batch: 100 Loss: 0.3778265118598938 Accuracy 0.3112829923629761\n",
      "Epoch: 13 Batch: 200 Loss: 0.38893166184425354 Accuracy 0.3120802342891693\n",
      "Epoch: 13 Batch: 300 Loss: 0.39264044165611267 Accuracy 0.31233733892440796\n",
      "Epoch 13 Loss 0.3989 Accuracy 0.3119\n",
      "Time taken for 1 epoch: 69.32746267318726 secs\n",
      "\n",
      "Epoch: 14 Batch: 0 Loss: 0.35459795594215393 Accuracy 0.31562501192092896\n",
      "Epoch: 14 Batch: 100 Loss: 0.34416109323501587 Accuracy 0.31658416986465454\n",
      "Epoch: 14 Batch: 200 Loss: 0.36219507455825806 Accuracy 0.31527259945869446\n",
      "Epoch: 14 Batch: 300 Loss: 0.3632363975048065 Accuracy 0.31701967120170593\n",
      "Saving checkpoint for epoch 14 at ./checkpoints/train\\ckpt-7\n",
      "Epoch 14 Loss 0.3676 Accuracy 0.3170\n",
      "Time taken for 1 epoch: 77.18660831451416 secs\n",
      "\n",
      "Epoch: 15 Batch: 0 Loss: 0.2976604402065277 Accuracy 0.33020833134651184\n",
      "Epoch: 15 Batch: 100 Loss: 0.3089475929737091 Accuracy 0.3250825107097626\n",
      "Epoch: 15 Batch: 200 Loss: 0.31855833530426025 Accuracy 0.32407236099243164\n",
      "Epoch: 15 Batch: 300 Loss: 0.32916539907455444 Accuracy 0.322847455739975\n",
      "Epoch 15 Loss 0.3355 Accuracy 0.3224\n",
      "Time taken for 1 epoch: 75.54701972007751 secs\n",
      "\n",
      "Epoch: 16 Batch: 0 Loss: 0.3530615568161011 Accuracy 0.3166666626930237\n",
      "Epoch: 16 Batch: 100 Loss: 0.2751019597053528 Accuracy 0.33100247383117676\n",
      "Epoch: 16 Batch: 200 Loss: 0.2924479842185974 Accuracy 0.328845351934433\n",
      "Epoch: 16 Batch: 300 Loss: 0.2999488413333893 Accuracy 0.3284260928630829\n",
      "Saving checkpoint for epoch 16 at ./checkpoints/train\\ckpt-8\n",
      "Epoch 16 Loss 0.3059 Accuracy 0.3282\n",
      "Time taken for 1 epoch: 79.06866264343262 secs\n",
      "\n",
      "Epoch: 17 Batch: 0 Loss: 0.2455732673406601 Accuracy 0.35208332538604736\n",
      "Epoch: 17 Batch: 100 Loss: 0.25072333216667175 Accuracy 0.3344162404537201\n",
      "Epoch: 17 Batch: 200 Loss: 0.2706362009048462 Accuracy 0.3332815170288086\n",
      "Epoch: 17 Batch: 300 Loss: 0.28008362650871277 Accuracy 0.33215323090553284\n",
      "Epoch 17 Loss 0.2856 Accuracy 0.3314\n",
      "Time taken for 1 epoch: 76.00723791122437 secs\n",
      "\n",
      "Epoch: 18 Batch: 0 Loss: 0.2278423309326172 Accuracy 0.3395833373069763\n",
      "Epoch: 18 Batch: 100 Loss: 0.22644953429698944 Accuracy 0.3383972644805908\n",
      "Epoch: 18 Batch: 200 Loss: 0.24835802614688873 Accuracy 0.3358157277107239\n",
      "Epoch: 18 Batch: 300 Loss: 0.2569682002067566 Accuracy 0.33544090390205383\n",
      "Saving checkpoint for epoch 18 at ./checkpoints/train\\ckpt-9\n",
      "Epoch 18 Loss 0.2625 Accuracy 0.3354\n",
      "Time taken for 1 epoch: 78.88455867767334 secs\n",
      "\n",
      "Epoch: 19 Batch: 0 Loss: 0.23741237819194794 Accuracy 0.3385416567325592\n",
      "Epoch: 19 Batch: 100 Loss: 0.2197774052619934 Accuracy 0.33941832184791565\n",
      "Epoch: 19 Batch: 200 Loss: 0.23144224286079407 Accuracy 0.338474303483963\n",
      "Epoch: 19 Batch: 300 Loss: 0.2417227178812027 Accuracy 0.3379083573818207\n",
      "Epoch 19 Loss 0.2453 Accuracy 0.3382\n",
      "Time taken for 1 epoch: 75.73047184944153 secs\n",
      "\n",
      "Epoch: 20 Batch: 0 Loss: 0.21044698357582092 Accuracy 0.33645832538604736\n",
      "Epoch: 20 Batch: 100 Loss: 0.19903166592121124 Accuracy 0.34475040435791016\n",
      "Epoch: 20 Batch: 200 Loss: 0.21932660043239594 Accuracy 0.34141790866851807\n",
      "Epoch: 20 Batch: 300 Loss: 0.22879481315612793 Accuracy 0.3406630754470825\n",
      "Saving checkpoint for epoch 20 at ./checkpoints/train\\ckpt-10\n",
      "Epoch 20 Loss 0.2360 Accuracy 0.3399\n",
      "Time taken for 1 epoch: 78.8061511516571 secs\n",
      "\n",
      "Epoch: 21 Batch: 0 Loss: 0.19050121307373047 Accuracy 0.3447916805744171\n"
     ]
    },
    {
     "name": "stdout",
     "output_type": "stream",
     "text": [
      "Epoch: 21 Batch: 100 Loss: 0.1866970807313919 Accuracy 0.34549298882484436\n",
      "Epoch: 21 Batch: 200 Loss: 0.2001620978116989 Accuracy 0.3444910943508148\n",
      "Epoch: 21 Batch: 300 Loss: 0.2126070261001587 Accuracy 0.3438365161418915\n",
      "Epoch 21 Loss 0.2192 Accuracy 0.3432\n",
      "Time taken for 1 epoch: 75.97014045715332 secs\n",
      "\n",
      "Epoch: 22 Batch: 0 Loss: 0.15468929708003998 Accuracy 0.3489583432674408\n",
      "Epoch: 22 Batch: 100 Loss: 0.18346798419952393 Accuracy 0.34667903184890747\n",
      "Epoch: 22 Batch: 200 Loss: 0.1963718831539154 Accuracy 0.345278799533844\n",
      "Epoch: 22 Batch: 300 Loss: 0.20281367003917694 Accuracy 0.34472590684890747\n",
      "Saving checkpoint for epoch 22 at ./checkpoints/train\\ckpt-11\n",
      "Epoch 22 Loss 0.2085 Accuracy 0.3446\n",
      "Time taken for 1 epoch: 79.16771054267883 secs\n",
      "\n",
      "Epoch: 23 Batch: 0 Loss: 0.19175773859024048 Accuracy 0.34062498807907104\n",
      "Epoch: 23 Batch: 100 Loss: 0.17091073095798492 Accuracy 0.350340336561203\n",
      "Epoch: 23 Batch: 200 Loss: 0.18136608600616455 Accuracy 0.34790629148483276\n",
      "Epoch: 23 Batch: 300 Loss: 0.18874943256378174 Accuracy 0.3479408919811249\n",
      "Epoch 23 Loss 0.1958 Accuracy 0.3473\n",
      "Time taken for 1 epoch: 75.70542025566101 secs\n",
      "\n",
      "Epoch: 24 Batch: 0 Loss: 0.1168120875954628 Accuracy 0.35729166865348816\n",
      "Epoch: 24 Batch: 100 Loss: 0.15386563539505005 Accuracy 0.35316625237464905\n",
      "Epoch: 24 Batch: 200 Loss: 0.16170145571231842 Accuracy 0.3521714210510254\n",
      "Epoch: 24 Batch: 300 Loss: 0.17324693500995636 Accuracy 0.3506990671157837\n",
      "Saving checkpoint for epoch 24 at ./checkpoints/train\\ckpt-12\n",
      "Epoch 24 Loss 0.1811 Accuracy 0.3498\n",
      "Time taken for 1 epoch: 78.85180997848511 secs\n",
      "\n",
      "Epoch: 25 Batch: 0 Loss: 0.13789062201976776 Accuracy 0.3489583432674408\n",
      "Epoch: 25 Batch: 100 Loss: 0.14483317732810974 Accuracy 0.35499176383018494\n",
      "Epoch: 25 Batch: 200 Loss: 0.1549626886844635 Accuracy 0.3529125154018402\n",
      "Epoch: 25 Batch: 300 Loss: 0.16324326395988464 Accuracy 0.35249170660972595\n",
      "Epoch 25 Loss 0.1718 Accuracy 0.3515\n",
      "Time taken for 1 epoch: 76.12154078483582 secs\n",
      "\n",
      "Epoch: 26 Batch: 0 Loss: 0.13899144530296326 Accuracy 0.3635416626930237\n",
      "Epoch: 26 Batch: 100 Loss: 0.1336086541414261 Accuracy 0.3577660918235779\n",
      "Epoch: 26 Batch: 200 Loss: 0.1447344422340393 Accuracy 0.35496994853019714\n",
      "Epoch: 26 Batch: 300 Loss: 0.1547369658946991 Accuracy 0.35413551330566406\n",
      "Saving checkpoint for epoch 26 at ./checkpoints/train\\ckpt-13\n",
      "Epoch 26 Loss 0.1648 Accuracy 0.3528\n",
      "Time taken for 1 epoch: 79.72687840461731 secs\n",
      "\n",
      "Epoch: 27 Batch: 0 Loss: 0.1496908962726593 Accuracy 0.3604166805744171\n",
      "Epoch: 27 Batch: 100 Loss: 0.1311398148536682 Accuracy 0.3579929769039154\n",
      "Epoch: 27 Batch: 200 Loss: 0.13872523605823517 Accuracy 0.35646766424179077\n",
      "Epoch: 27 Batch: 300 Loss: 0.1475958526134491 Accuracy 0.35548171401023865\n",
      "Epoch 27 Loss 0.1564 Accuracy 0.3545\n",
      "Time taken for 1 epoch: 75.87264108657837 secs\n",
      "\n",
      "Epoch: 28 Batch: 0 Loss: 0.1624179482460022 Accuracy 0.3604166805744171\n",
      "Epoch: 28 Batch: 100 Loss: 0.12401898950338364 Accuracy 0.359447181224823\n",
      "Epoch: 28 Batch: 200 Loss: 0.13182055950164795 Accuracy 0.3583851456642151\n",
      "Epoch: 28 Batch: 300 Loss: 0.14336609840393066 Accuracy 0.35641956329345703\n",
      "Saving checkpoint for epoch 28 at ./checkpoints/train\\ckpt-14\n",
      "Epoch 28 Loss 0.1508 Accuracy 0.3555\n",
      "Time taken for 1 epoch: 79.20952677726746 secs\n",
      "\n",
      "Epoch: 29 Batch: 0 Loss: 0.09052098542451859 Accuracy 0.36770832538604736\n",
      "Epoch: 29 Batch: 100 Loss: 0.11256030946969986 Accuracy 0.361891508102417\n",
      "Epoch: 29 Batch: 200 Loss: 0.12402614951133728 Accuracy 0.35921433568000793\n",
      "Epoch: 29 Batch: 300 Loss: 0.1360270082950592 Accuracy 0.35791459679603577\n",
      "Epoch 29 Loss 0.1432 Accuracy 0.3568\n",
      "Time taken for 1 epoch: 75.891352891922 secs\n",
      "\n",
      "Epoch: 30 Batch: 0 Loss: 0.09112892299890518 Accuracy 0.35104167461395264\n",
      "Epoch: 30 Batch: 100 Loss: 0.11115896701812744 Accuracy 0.3631291389465332\n",
      "Epoch: 30 Batch: 200 Loss: 0.1223086267709732 Accuracy 0.36041149497032166\n",
      "Epoch: 30 Batch: 300 Loss: 0.13212184607982635 Accuracy 0.35891473293304443\n",
      "Saving checkpoint for epoch 30 at ./checkpoints/train\\ckpt-15\n",
      "Epoch 30 Loss 0.1421 Accuracy 0.3572\n",
      "Time taken for 1 epoch: 78.96844220161438 secs\n",
      "\n"
     ]
    }
   ],
   "source": [
    "train(train_data, EPOCHS)"
   ]
  },
  {
   "cell_type": "code",
   "execution_count": 162,
   "metadata": {},
   "outputs": [
    {
     "name": "stdout",
     "output_type": "stream",
     "text": [
      "Latest checkpoint restored!!\n"
     ]
    }
   ],
   "source": [
    "# if a checkpoint exists, restore the latest checkpoint.\n",
    "if ckpt_manager.latest_checkpoint:\n",
    "    ckpt.restore(ckpt_manager.latest_checkpoint)\n",
    "    print ('Latest checkpoint restored!!')"
   ]
  },
  {
   "cell_type": "markdown",
   "metadata": {},
   "source": [
    "#### Evaluate our model"
   ]
  },
  {
   "cell_type": "code",
   "execution_count": 163,
   "metadata": {},
   "outputs": [],
   "source": [
    "def evaluate(sentence):\n",
    "    sentence = preprocess_sentence(sentence)\n",
    "    \n",
    "    inp = [inp_lang.word_index[w] for w in sentence.split(' ')]\n",
    "    inp = tf.keras.preprocessing.sequence.pad_sequences([inp], maxlen=max_length_inp, padding='post')\n",
    "    \n",
    "    enc_inp = tf.convert_to_tensor(inp)\n",
    "    output = tf.expand_dims([targ_lang.word_index['<start>']], 0)\n",
    "    \n",
    "    for i in range(max_length_targ):\n",
    "        inp_padding_mask, look_ahead_mask, targ_padding_mask = create_masks(enc_inp, output)\n",
    "        \n",
    "        preds, attn_weights = transformer(enc_inp, output, False,\n",
    "                                          inp_padding_mask, look_ahead_mask,\n",
    "                                          targ_padding_mask)\n",
    "        \n",
    "        preds = preds[:, -1:, :] #(1, 1, vocab_targ_size)\n",
    "        predicted_id = tf.argmax(preds, axis=-1, output_type=tf.int32)\n",
    "        \n",
    "        if predicted_id == targ_lang.word_index['<end>']:\n",
    "            return tf.squeeze(output, axis=0), attn_weights\n",
    "        \n",
    "        output = tf.concat([output, predicted_id], axis=-1)\n",
    "    \n",
    "    return tf.squeeze(output, axis=0), attn_weights\n",
    "    \n",
    "    "
   ]
  },
  {
   "cell_type": "code",
   "execution_count": 164,
   "metadata": {},
   "outputs": [],
   "source": [
    "def translate(sentence, plot=''):\n",
    "    result, attn_weights = evaluate(sentence)\n",
    "    print(result)\n",
    "    predicted_sentence = ' '.join([targ_lang.index_word[t] for t in result.numpy()])\n",
    "    \n",
    "    return predicted_sentence"
   ]
  },
  {
   "cell_type": "code",
   "execution_count": 166,
   "metadata": {},
   "outputs": [
    {
     "name": "stdout",
     "output_type": "stream",
     "text": [
      "tf.Tensor([  1   3 294 294   3   3   3   3], shape=(8,), dtype=int32)\n"
     ]
    },
    {
     "data": {
      "text/plain": [
       "'<start> . anos anos . . . .'"
      ]
     },
     "execution_count": 166,
     "metadata": {},
     "output_type": "execute_result"
    }
   ],
   "source": [
    "translate(u'How are you?')"
   ]
  },
  {
   "cell_type": "code",
   "execution_count": null,
   "metadata": {},
   "outputs": [],
   "source": []
  }
 ],
 "metadata": {
  "kernelspec": {
   "display_name": "Python 3",
   "language": "python",
   "name": "python3"
  },
  "language_info": {
   "codemirror_mode": {
    "name": "ipython",
    "version": 3
   },
   "file_extension": ".py",
   "mimetype": "text/x-python",
   "name": "python",
   "nbconvert_exporter": "python",
   "pygments_lexer": "ipython3",
   "version": "3.7.5"
  }
 },
 "nbformat": 4,
 "nbformat_minor": 4
}
