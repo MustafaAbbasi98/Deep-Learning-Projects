{
 "cells": [
  {
   "cell_type": "markdown",
   "metadata": {},
   "source": [
    "# English to Urdu Machine Translation using Attention and GRUs\n",
    "\n",
    "In this notebook, you will learn how to perform english to urdu translation using:\n",
    "- GRUs as RNNs\n",
    "- Encoder-Decoder Architecture\n",
    "- Attention\n",
    "- Custom TF2 training loops\n",
    "- Evaluating Machine Translation models with Attention Heatmaps"
   ]
  },
  {
   "cell_type": "code",
   "execution_count": null,
   "metadata": {},
   "outputs": [],
   "source": [
    "import tensorflow as tf\n",
    "\n",
    "import matplotlib.pyplot as plt\n",
    "import matplotlib.ticker as ticker\n",
    "from sklearn.model_selection import train_test_split\n",
    "\n",
    "import unicodedata\n",
    "import re\n",
    "import numpy as np\n",
    "import os\n",
    "import io\n",
    "import time\n",
    "from pathlib import Path"
   ]
  },
  {
   "cell_type": "markdown",
   "metadata": {},
   "source": [
    "## Load and Preprocess Data"
   ]
  },
  {
   "cell_type": "code",
   "execution_count": 329,
   "metadata": {},
   "outputs": [],
   "source": [
    "path = Path(\"DIRECTORY\")/\"urd.txt\" #change as needed"
   ]
  },
  {
   "cell_type": "code",
   "execution_count": 330,
   "metadata": {},
   "outputs": [
    {
     "data": {
      "text/plain": [
       "['Help!\\tمدد۔\\tCC-BY 2.0 (France) Attribution: tatoeba.org #435084 (lukaszpp) & #1462368 (nabeel_tahir)',\n",
       " 'We won.\\tہم جیت گئے۔\\tCC-BY 2.0 (France) Attribution: tatoeba.org #2107675 (CK) & #2123755 (nabeel_tahir)']"
      ]
     },
     "execution_count": 330,
     "metadata": {},
     "output_type": "execute_result"
    }
   ],
   "source": [
    "io.open(path, encoding='UTF-8').read().strip().split('\\n')[:2]"
   ]
  },
  {
   "cell_type": "code",
   "execution_count": 331,
   "metadata": {},
   "outputs": [],
   "source": [
    "# Converts the unicode file to ascii\n",
    "def unicode_to_ascii(s):\n",
    "    return ''.join(c for c in unicodedata.normalize('NFD', s)\n",
    "      if unicodedata.category(c) != 'Mn')"
   ]
  },
  {
   "cell_type": "code",
   "execution_count": 332,
   "metadata": {},
   "outputs": [],
   "source": [
    "def preprocess_sentence(s):\n",
    "    s = unicode_to_ascii(s.lower().strip())\n",
    "    \n",
    "    #Add space before any punctuation\n",
    "    s = re.sub(r\"([?.!,¿])\", r\" \\1 \", s)\n",
    "    \n",
    "    #Remove several spaces with a single space\n",
    "    s = re.sub(r'[\" \"]+', \" \", s)\n",
    "       \n",
    "    return \"<start> \" + s.strip() + \" <end>\""
   ]
  },
  {
   "cell_type": "code",
   "execution_count": 333,
   "metadata": {},
   "outputs": [],
   "source": [
    "def parse_file(path, num_examples):\n",
    "    lines = io.open(path, encoding='UTF-8').read().strip().split('\\n')\n",
    "    \n",
    "    word_pairs = [[preprocess_sentence(s) for s in line.split('\\t')[:2]] for line in lines[:num_examples]]\n",
    "    \n",
    "    return zip(*word_pairs)"
   ]
  },
  {
   "cell_type": "code",
   "execution_count": 334,
   "metadata": {},
   "outputs": [],
   "source": [
    "def tokenize(sentences):\n",
    "    tokenizer = tf.keras.preprocessing.text.Tokenizer(filters='')\n",
    "    tokenizer.fit_on_texts(sentences)\n",
    "    \n",
    "    tensor = tokenizer.texts_to_sequences(sentences)\n",
    "    \n",
    "    tensor = tf.keras.preprocessing.sequence.pad_sequences(tensor, padding='post')\n",
    "    \n",
    "    return tensor, tokenizer"
   ]
  },
  {
   "cell_type": "code",
   "execution_count": 335,
   "metadata": {},
   "outputs": [],
   "source": [
    "def max_length(tensor):\n",
    "    return max(len(t) for t in tensor)"
   ]
  },
  {
   "cell_type": "code",
   "execution_count": 336,
   "metadata": {},
   "outputs": [],
   "source": [
    "def load_data(path, num_examples=None):\n",
    "    inp_sentences, targ_sentences = parse_file(path, num_examples)\n",
    "    \n",
    "    inp_tensors, inp_lang_tokenizer = tokenize(inp_sentences)\n",
    "    targ_tensors, targ_lang_tokenizer = tokenize(targ_sentences)\n",
    "    \n",
    "    return inp_tensors, targ_tensors, inp_lang_tokenizer, targ_lang_tokenizer"
   ]
  },
  {
   "cell_type": "code",
   "execution_count": 337,
   "metadata": {},
   "outputs": [
    {
     "name": "stdout",
     "output_type": "stream",
     "text": [
      "<start> when you meet someone for the first time , be careful about how close you stand to that person . <end>\n",
      "<start> جب تم پہلی دفعہ کسی سے ملو، اس بات کو مد نظر رکھو کہ تم اس کے کتنا قریب کھڑے ہو۔ <end>\n"
     ]
    }
   ],
   "source": [
    "en, urd = parse_file(path, None)\n",
    "print(en[-1])\n",
    "print(urd[-1])"
   ]
  },
  {
   "cell_type": "code",
   "execution_count": 338,
   "metadata": {},
   "outputs": [],
   "source": [
    "# Try experimenting with the size of that dataset\n",
    "num_examples = None\n",
    "input_tensor, target_tensor, inp_lang, targ_lang = load_data(path, num_examples)\n",
    "\n",
    "# Calculate max_length of the target tensors\n",
    "max_length_targ, max_length_inp = max_length(target_tensor), max_length(input_tensor)"
   ]
  },
  {
   "cell_type": "code",
   "execution_count": 339,
   "metadata": {},
   "outputs": [],
   "source": [
    "def convert(lang, tensor):\n",
    "    for word in tensor:\n",
    "        if word != 0:\n",
    "            print(f\"{word} -----> {lang.index_word[word]}\")"
   ]
  },
  {
   "cell_type": "code",
   "execution_count": 340,
   "metadata": {},
   "outputs": [
    {
     "name": "stdout",
     "output_type": "stream",
     "text": [
      "1 -----> <start>\n",
      "208 -----> help\n",
      "178 -----> !\n",
      "2 -----> <end>\n"
     ]
    }
   ],
   "source": [
    "convert(inp_lang, input_tensor[0])"
   ]
  },
  {
   "cell_type": "code",
   "execution_count": 341,
   "metadata": {},
   "outputs": [
    {
     "name": "stdout",
     "output_type": "stream",
     "text": [
      "1 -----> <start>\n",
      "837 -----> مدد۔\n",
      "2 -----> <end>\n"
     ]
    }
   ],
   "source": [
    "convert(targ_lang, target_tensor[0])"
   ]
  },
  {
   "cell_type": "code",
   "execution_count": 342,
   "metadata": {},
   "outputs": [],
   "source": [
    "input_tensor_train, input_tensor_val, target_tensor_train, target_tensor_val = train_test_split(input_tensor, target_tensor, test_size=0.2)"
   ]
  },
  {
   "cell_type": "code",
   "execution_count": 343,
   "metadata": {},
   "outputs": [
    {
     "data": {
      "text/plain": [
       "932"
      ]
     },
     "execution_count": 343,
     "metadata": {},
     "output_type": "execute_result"
    }
   ],
   "source": [
    "len(target_tensor_train)"
   ]
  },
  {
   "cell_type": "markdown",
   "metadata": {},
   "source": [
    "### Create a tf.data Dataset"
   ]
  },
  {
   "cell_type": "code",
   "execution_count": 344,
   "metadata": {},
   "outputs": [],
   "source": [
    "BUFFER_SIZE = len(input_tensor_train)\n",
    "BATCH_SIZE = 64\n",
    "STEPS_PER_EPOCH = len(input_tensor_train) // BATCH_SIZE\n",
    "vocab_inp_size = len(inp_lang.word_index) + 1\n",
    "vocab_targ_size = len(targ_lang.word_index) + 1"
   ]
  },
  {
   "cell_type": "code",
   "execution_count": 345,
   "metadata": {},
   "outputs": [],
   "source": [
    "train_data = tf.data.Dataset.from_tensor_slices((input_tensor_train, target_tensor_train)).shuffle(BUFFER_SIZE)\n",
    "train_data = train_data.batch(BATCH_SIZE)"
   ]
  },
  {
   "cell_type": "code",
   "execution_count": 346,
   "metadata": {},
   "outputs": [
    {
     "data": {
      "text/plain": [
       "(TensorShape([64, 22]), TensorShape([64, 23]))"
      ]
     },
     "execution_count": 346,
     "metadata": {},
     "output_type": "execute_result"
    }
   ],
   "source": [
    "example_input_batch, example_target_batch = next(iter(train_data))\n",
    "example_input_batch.shape, example_target_batch.shape"
   ]
  },
  {
   "cell_type": "markdown",
   "metadata": {},
   "source": [
    "## Implementing the Encoder and Decoder model with Attention"
   ]
  },
  {
   "cell_type": "code",
   "execution_count": 347,
   "metadata": {},
   "outputs": [],
   "source": [
    "embedding_dim = 512\n",
    "gru_units = 512"
   ]
  },
  {
   "cell_type": "code",
   "execution_count": 349,
   "metadata": {},
   "outputs": [],
   "source": [
    "def Encoder(input_dim, embedding_dim, gru_units, batch_size):\n",
    "    \n",
    "    input = tf.keras.layers.Input(shape=(None,))\n",
    "    hidden = tf.keras.layers.Input(shape=((gru_units,)), batch_size=batch_size)\n",
    "    \n",
    "    embed = tf.keras.layers.Embedding(input_dim, embedding_dim)\n",
    "    \n",
    "    gru = tf.keras.layers.GRU(gru_units,\n",
    "                              return_sequences=True,\n",
    "                              return_state=True,\n",
    "                              recurrent_initializer='glorot_uniform'\n",
    "                              )\n",
    "    \n",
    "    x = embed(input)\n",
    "    out, state = gru(x, initial_state=hidden)\n",
    "    \n",
    "    return tf.keras.Model(inputs=(input, hidden), outputs=(out, state))"
   ]
  },
  {
   "cell_type": "code",
   "execution_count": 350,
   "metadata": {},
   "outputs": [],
   "source": [
    "def init_hidden(batch_size, gru_units):\n",
    "    return tf.zeros(shape=((batch_size, gru_units)))"
   ]
  },
  {
   "cell_type": "code",
   "execution_count": 351,
   "metadata": {},
   "outputs": [],
   "source": [
    "encoder = Encoder(vocab_inp_size, embedding_dim, gru_units, BATCH_SIZE)"
   ]
  },
  {
   "cell_type": "code",
   "execution_count": 352,
   "metadata": {},
   "outputs": [
    {
     "data": {
      "image/png": "[encoded data removed]",
      "text/plain": [
       "<IPython.core.display.Image object>"
      ]
     },
     "execution_count": 352,
     "metadata": {},
     "output_type": "execute_result"
    }
   ],
   "source": [
    "tf.keras.utils.plot_model(encoder, show_shapes=True)"
   ]
  },
  {
   "cell_type": "code",
   "execution_count": 353,
   "metadata": {},
   "outputs": [
    {
     "data": {
      "text/plain": [
       "TensorShape([64, 22])"
      ]
     },
     "execution_count": 353,
     "metadata": {},
     "output_type": "execute_result"
    }
   ],
   "source": [
    "example_input_batch.shape"
   ]
  },
  {
   "cell_type": "code",
   "execution_count": 354,
   "metadata": {},
   "outputs": [
    {
     "name": "stdout",
     "output_type": "stream",
     "text": [
      "Encoder output shape: (batch size, sequence length, units) (64, 22, 512)\n",
      "Encoder Hidden state shape: (batch size, units) (64, 512)\n"
     ]
    }
   ],
   "source": [
    "sample_hidden = init_hidden(BATCH_SIZE, gru_units)\n",
    "\n",
    "sample_output, sample_hidden = encoder((example_input_batch, sample_hidden))\n",
    "\n",
    "print ('Encoder output shape: (batch size, sequence length, units) {}'.format(sample_output.shape))\n",
    "print ('Encoder Hidden state shape: (batch size, units) {}'.format(sample_hidden.shape))"
   ]
  },
  {
   "cell_type": "code",
   "execution_count": 356,
   "metadata": {},
   "outputs": [],
   "source": [
    "def BahdanauAttention(query, values, units):\n",
    "    #query tensor shape: (batch_size, hidden_dim)\n",
    "    #values tensor shape: (batch_size, max_len, hidden_dim)\n",
    "    \n",
    "    W1 = tf.keras.layers.Dense(units)\n",
    "    W2 = tf.keras.layers.Dense(units)\n",
    "    V = tf.keras.layers.Dense(1)\n",
    "\n",
    "    query_with_time_axis = tf.expand_dims(query, axis=1) #(B, 1, H)\n",
    "    \n",
    "    #(B, max_len, 1)\n",
    "    scores = V(tf.nn.tanh(\n",
    "        W1(query_with_time_axis) + W2(values)))\n",
    "    \n",
    "    attention_weights = tf.nn.softmax(scores, axis=1)#(B, max_len, 1)\n",
    "    \n",
    "    context_vector = attention_weights * values #(B, max_len, H)\n",
    "    context_vector = tf.reduce_sum(context_vector, axis=1, keepdims=False) #(B, H)\n",
    "    \n",
    "    return context_vector, attention_weights"
   ]
  },
  {
   "cell_type": "code",
   "execution_count": 357,
   "metadata": {},
   "outputs": [],
   "source": [
    "def Decoder(vocab_size, emb_dim, enc_units, dec_units):\n",
    "    input = tf.keras.layers.Input(shape=(None, ))\n",
    "    hidden = tf.keras.layers.Input(shape=(enc_units, ))\n",
    "    enc_output = tf.keras.layers.Input(shape=(None, enc_units))\n",
    "    \n",
    "    embedding = tf.keras.layers.Embedding(vocab_size, emb_dim)\n",
    "    gru = tf.keras.layers.GRU(dec_units,\n",
    "                              return_sequences=True,\n",
    "                              return_state=True,\n",
    "                              recurrent_initializer='glorot_uniform')\n",
    "    fc = tf.keras.layers.Dense(vocab_size)\n",
    "    \n",
    "    \n",
    "    #Apply attention using previous hidden state as query and the enc_output as the values\n",
    "    context_vector, attn_weights = BahdanauAttention(hidden, enc_output, dec_units)\n",
    "    \n",
    "    emb = embedding(input)\n",
    "    \n",
    "    #concatenate embedding and context vector to get tensor with shape (batch_size, max_len, emb_dim + enc_units)\n",
    "    x = tf.concat([tf.expand_dims(context_vector, axis=1), emb], axis=-1)\n",
    "    \n",
    "    #out shape: (B, max_targ_len, dec_units)\n",
    "    #state shape: (B, dec_units)\n",
    "    out, state = gru(x)\n",
    "    \n",
    "    out = tf.reshape(out, (-1, out.shape[2]))\n",
    "    \n",
    "    #out shape: (B, vocab_targ_size)\n",
    "    out = fc(out)\n",
    "    \n",
    "    return tf.keras.Model(inputs=[input, hidden, enc_output], outputs=[out, state, attn_weights])"
   ]
  },
  {
   "cell_type": "code",
   "execution_count": 358,
   "metadata": {},
   "outputs": [],
   "source": [
    "optimizer = tf.keras.optimizers.Adam(learning_rate=0.01)\n",
    "loss_object = tf.keras.losses.SparseCategoricalCrossentropy(from_logits=True, reduction='none')\n",
    "\n",
    "def loss_function(real, pred):\n",
    "    #Mask out padding \n",
    "    mask = tf.math.logical_not(tf.math.equal(real, 0))\n",
    "    \n",
    "    loss_ = loss_object(real, pred)\n",
    "    \n",
    "    mask = tf.cast(mask, dtype=loss_.dtype)\n",
    "    loss = loss_ * mask\n",
    "    return tf.reduce_mean(loss)"
   ]
  },
  {
   "cell_type": "code",
   "execution_count": 359,
   "metadata": {},
   "outputs": [],
   "source": [
    "encoder = Encoder(vocab_inp_size, embedding_dim, gru_units, BATCH_SIZE)\n",
    "decoder = Decoder(vocab_targ_size, embedding_dim, gru_units, gru_units)"
   ]
  },
  {
   "cell_type": "markdown",
   "metadata": {},
   "source": [
    "### Checkpoint"
   ]
  },
  {
   "cell_type": "code",
   "execution_count": 360,
   "metadata": {},
   "outputs": [],
   "source": [
    "checkpoint_dir = './training_checkpoints'\n",
    "checkpoint_prefix = os.path.join(checkpoint_dir, \"ckpt\")\n",
    "checkpoint = tf.train.Checkpoint(optimizer=optimizer,\n",
    "                                 encoder=encoder,\n",
    "                                 decoder=decoder)"
   ]
  },
  {
   "cell_type": "markdown",
   "metadata": {},
   "source": [
    "## Define custom loops to train model in TF2"
   ]
  },
  {
   "cell_type": "code",
   "execution_count": 361,
   "metadata": {},
   "outputs": [],
   "source": [
    "@tf.function\n",
    "def train_step(inp, targ, enc_hidden, optimizer):\n",
    "    #inp: (B, inp_len)\n",
    "    #targ: (B, targ_len)\n",
    "    \n",
    "    loss = 0\n",
    "    \n",
    "    with tf.GradientTape() as tape:\n",
    "        enc_out, enc_hidden = encoder((inp, enc_hidden))\n",
    "        \n",
    "        dec_hidden = enc_hidden\n",
    "        \n",
    "        dec_input = tf.expand_dims([targ_lang.word_index['<start>']] * BATCH_SIZE, 1)\n",
    "        \n",
    "        #Teacher Forcing\n",
    "        for t in range(1, targ.shape[1]):\n",
    "            preds, dec_hidden, _ = decoder((dec_input, dec_hidden, enc_out))\n",
    "            \n",
    "            loss += loss_function(targ[:, t], preds)\n",
    "            \n",
    "            dec_input = tf.expand_dims(targ[:, t], axis=1)\n",
    "    \n",
    "    #Normalize loss by length of output sequence\n",
    "    batch_loss = (loss / int(targ.shape[1]))\n",
    "    \n",
    "    #Get all trainable variables\n",
    "    variables = encoder.trainable_variables + decoder.trainable_variables\n",
    "\n",
    "    #Calculate Gradients\n",
    "    gradients=tape.gradient(loss, variables)\n",
    "\n",
    "    #Update Trainable Variables\n",
    "    optimizer.apply_gradients(zip(gradients, variables))\n",
    "    \n",
    "    return batch_loss"
   ]
  },
  {
   "cell_type": "code",
   "execution_count": 362,
   "metadata": {},
   "outputs": [],
   "source": [
    "def train(data, encoder, decoder, checkpoint, optimizer, epochs=10):\n",
    "    losses = []\n",
    "    for epoch in range(epochs):\n",
    "        start = time.time()\n",
    "        \n",
    "        enc_hidden = init_hidden(BATCH_SIZE, gru_units)\n",
    "        total_loss = 0\n",
    "        \n",
    "        for (batch_no, (inp, targ)) in enumerate(data.take(STEPS_PER_EPOCH)):\n",
    "            batch_loss = train_step(inp, targ, enc_hidden, optimizer)\n",
    "            total_loss += batch_loss\n",
    "            \n",
    "            if batch_no % 5 == 0:\n",
    "                print(f\"Epoch {epoch+1} Batch {batch_no} Loss {batch_loss.numpy()}\")\n",
    "                \n",
    "        \n",
    "        \n",
    "        if (epoch + 1) % 2 == 0:\n",
    "            checkpoint.save(file_prefix=checkpoint_prefix)\n",
    "        \n",
    "        print(f\"Epoch {epoch+1} Loss {total_loss.numpy() / STEPS_PER_EPOCH}\")\n",
    "        \n",
    "        print(f\"Time taken for 1 epoch {time.time() - start} sec\\n\")\n",
    "        \n",
    "        losses.append(total_loss.numpy() / STEPS_PER_EPOCH)\n",
    "        \n",
    "    return losses\n",
    "        "
   ]
  },
  {
   "cell_type": "code",
   "execution_count": 363,
   "metadata": {},
   "outputs": [
    {
     "name": "stdout",
     "output_type": "stream",
     "text": [
      "Epoch 1 Batch 0 Loss 3.106029987335205\n",
      "Epoch 1 Batch 5 Loss 2.4738104343414307\n",
      "Epoch 1 Batch 10 Loss 2.3397185802459717\n",
      "Epoch 1 Loss 2.462756020682199\n",
      "Time taken for 1 epoch 55.74030017852783 sec\n",
      "\n",
      "Epoch 2 Batch 0 Loss 2.010284900665283\n",
      "Epoch 2 Batch 5 Loss 1.9375898838043213\n",
      "Epoch 2 Batch 10 Loss 1.9244256019592285\n",
      "Epoch 2 Loss 1.9514128821236747\n",
      "Time taken for 1 epoch 7.156391143798828 sec\n",
      "\n",
      "Epoch 3 Batch 0 Loss 1.7870136499404907\n",
      "Epoch 3 Batch 5 Loss 1.7165061235427856\n",
      "Epoch 3 Batch 10 Loss 1.8550820350646973\n",
      "Epoch 3 Loss 1.7814574922834123\n",
      "Time taken for 1 epoch 4.928142547607422 sec\n",
      "\n",
      "Epoch 4 Batch 0 Loss 1.7346640825271606\n",
      "Epoch 4 Batch 5 Loss 1.6299546957015991\n",
      "Epoch 4 Batch 10 Loss 1.8077179193496704\n",
      "Epoch 4 Loss 1.6667958668300085\n",
      "Time taken for 1 epoch 7.004561424255371 sec\n",
      "\n",
      "Epoch 5 Batch 0 Loss 1.465863823890686\n",
      "Epoch 5 Batch 5 Loss 1.654888391494751\n",
      "Epoch 5 Batch 10 Loss 1.5622384548187256\n",
      "Epoch 5 Loss 1.5571752275739397\n",
      "Time taken for 1 epoch 4.936132431030273 sec\n",
      "\n",
      "Epoch 6 Batch 0 Loss 1.4124352931976318\n",
      "Epoch 6 Batch 5 Loss 1.4663797616958618\n",
      "Epoch 6 Batch 10 Loss 1.4108242988586426\n",
      "Epoch 6 Loss 1.4522927148001534\n",
      "Time taken for 1 epoch 7.0845301151275635 sec\n",
      "\n",
      "Epoch 7 Batch 0 Loss 1.3588182926177979\n",
      "Epoch 7 Batch 5 Loss 1.363029956817627\n",
      "Epoch 7 Batch 10 Loss 1.3824427127838135\n",
      "Epoch 7 Loss 1.3445143018450056\n",
      "Time taken for 1 epoch 4.983258247375488 sec\n",
      "\n",
      "Epoch 8 Batch 0 Loss 1.2112807035446167\n",
      "Epoch 8 Batch 5 Loss 1.0937576293945312\n",
      "Epoch 8 Batch 10 Loss 1.13602876663208\n",
      "Epoch 8 Loss 1.2065932410103934\n",
      "Time taken for 1 epoch 7.105031728744507 sec\n",
      "\n",
      "Epoch 9 Batch 0 Loss 1.1060534715652466\n",
      "Epoch 9 Batch 5 Loss 1.1383894681930542\n",
      "Epoch 9 Batch 10 Loss 1.1091582775115967\n",
      "Epoch 9 Loss 1.089461326599121\n",
      "Time taken for 1 epoch 4.975237131118774 sec\n",
      "\n",
      "Epoch 10 Batch 0 Loss 0.8573785424232483\n",
      "Epoch 10 Batch 5 Loss 0.9524217844009399\n",
      "Epoch 10 Batch 10 Loss 0.9314680099487305\n",
      "Epoch 10 Loss 0.9694952283586774\n",
      "Time taken for 1 epoch 7.04522705078125 sec\n",
      "\n",
      "Epoch 11 Batch 0 Loss 0.8759285807609558\n",
      "Epoch 11 Batch 5 Loss 0.8374919295310974\n",
      "Epoch 11 Batch 10 Loss 0.7615894675254822\n",
      "Epoch 11 Loss 0.8504754475184849\n",
      "Time taken for 1 epoch 4.940118789672852 sec\n",
      "\n",
      "Epoch 12 Batch 0 Loss 0.7542495727539062\n",
      "Epoch 12 Batch 5 Loss 0.660634458065033\n",
      "Epoch 12 Batch 10 Loss 0.8143861889839172\n",
      "Epoch 12 Loss 0.7347433907645089\n",
      "Time taken for 1 epoch 7.238370895385742 sec\n",
      "\n",
      "Epoch 13 Batch 0 Loss 0.6127235889434814\n",
      "Epoch 13 Batch 5 Loss 0.6906738877296448\n",
      "Epoch 13 Batch 10 Loss 0.6473026275634766\n",
      "Epoch 13 Loss 0.6299559729439872\n",
      "Time taken for 1 epoch 5.021358489990234 sec\n",
      "\n",
      "Epoch 14 Batch 0 Loss 0.5453181862831116\n",
      "Epoch 14 Batch 5 Loss 0.5586614012718201\n",
      "Epoch 14 Batch 10 Loss 0.5463301539421082\n",
      "Epoch 14 Loss 0.5468862737928119\n",
      "Time taken for 1 epoch 7.090461015701294 sec\n",
      "\n",
      "Epoch 15 Batch 0 Loss 0.4547565281391144\n",
      "Epoch 15 Batch 5 Loss 0.4140082001686096\n",
      "Epoch 15 Batch 10 Loss 0.4188740849494934\n",
      "Epoch 15 Loss 0.46710624013628277\n",
      "Time taken for 1 epoch 4.953204154968262 sec\n",
      "\n",
      "Epoch 16 Batch 0 Loss 0.3098955452442169\n",
      "Epoch 16 Batch 5 Loss 0.40171143412590027\n",
      "Epoch 16 Batch 10 Loss 0.4297349154949188\n",
      "Epoch 16 Loss 0.40251132420131136\n",
      "Time taken for 1 epoch 7.591067552566528 sec\n",
      "\n",
      "Epoch 17 Batch 0 Loss 0.3390188217163086\n",
      "Epoch 17 Batch 5 Loss 0.32520073652267456\n",
      "Epoch 17 Batch 10 Loss 0.398003488779068\n",
      "Epoch 17 Loss 0.3546347277505057\n",
      "Time taken for 1 epoch 5.011332273483276 sec\n",
      "\n",
      "Epoch 18 Batch 0 Loss 0.32454830408096313\n",
      "Epoch 18 Batch 5 Loss 0.28797346353530884\n",
      "Epoch 18 Batch 10 Loss 0.34400928020477295\n",
      "Epoch 18 Loss 0.3112048421587263\n",
      "Time taken for 1 epoch 7.318688631057739 sec\n",
      "\n",
      "Epoch 19 Batch 0 Loss 0.2211642861366272\n",
      "Epoch 19 Batch 5 Loss 0.23726074397563934\n",
      "Epoch 19 Batch 10 Loss 0.2740142345428467\n",
      "Epoch 19 Loss 0.26704042298453196\n",
      "Time taken for 1 epoch 5.001287937164307 sec\n",
      "\n",
      "Epoch 20 Batch 0 Loss 0.21309952437877655\n",
      "Epoch 20 Batch 5 Loss 0.23924040794372559\n",
      "Epoch 20 Batch 10 Loss 0.23744291067123413\n",
      "Epoch 20 Loss 0.23354310648781912\n",
      "Time taken for 1 epoch 7.021620988845825 sec\n",
      "\n",
      "Epoch 21 Batch 0 Loss 0.16489116847515106\n",
      "Epoch 21 Batch 5 Loss 0.2052353173494339\n",
      "Epoch 21 Batch 10 Loss 0.22981657087802887\n",
      "Epoch 21 Loss 0.20643511840275355\n",
      "Time taken for 1 epoch 5.047429800033569 sec\n",
      "\n",
      "Epoch 22 Batch 0 Loss 0.15221019089221954\n",
      "Epoch 22 Batch 5 Loss 0.20171059668064117\n",
      "Epoch 22 Batch 10 Loss 0.18342392146587372\n",
      "Epoch 22 Loss 0.18779432773590088\n",
      "Time taken for 1 epoch 7.486673355102539 sec\n",
      "\n",
      "Epoch 23 Batch 0 Loss 0.13204024732112885\n",
      "Epoch 23 Batch 5 Loss 0.16943812370300293\n",
      "Epoch 23 Batch 10 Loss 0.1663878858089447\n",
      "Epoch 23 Loss 0.1648707730429513\n",
      "Time taken for 1 epoch 5.030383348464966 sec\n",
      "\n",
      "Epoch 24 Batch 0 Loss 0.13069599866867065\n",
      "Epoch 24 Batch 5 Loss 0.13778705894947052\n",
      "Epoch 24 Batch 10 Loss 0.16408446431159973\n",
      "Epoch 24 Loss 0.1492349590573992\n",
      "Time taken for 1 epoch 6.946972131729126 sec\n",
      "\n",
      "Epoch 25 Batch 0 Loss 0.12017577141523361\n",
      "Epoch 25 Batch 5 Loss 0.11688494682312012\n",
      "Epoch 25 Batch 10 Loss 0.1628553867340088\n",
      "Epoch 25 Loss 0.1327690396990095\n",
      "Time taken for 1 epoch 5.000303506851196 sec\n",
      "\n",
      "Epoch 26 Batch 0 Loss 0.09176850318908691\n",
      "Epoch 26 Batch 5 Loss 0.11481242626905441\n",
      "Epoch 26 Batch 10 Loss 0.15358608961105347\n",
      "Epoch 26 Loss 0.12311339378356934\n",
      "Time taken for 1 epoch 7.186961889266968 sec\n",
      "\n",
      "Epoch 27 Batch 0 Loss 0.09731324762105942\n",
      "Epoch 27 Batch 5 Loss 0.09933224320411682\n",
      "Epoch 27 Batch 10 Loss 0.1491384208202362\n",
      "Epoch 27 Loss 0.11486097744532994\n",
      "Time taken for 1 epoch 5.00230860710144 sec\n",
      "\n",
      "Epoch 28 Batch 0 Loss 0.08421821147203445\n",
      "Epoch 28 Batch 5 Loss 0.11873575299978256\n",
      "Epoch 28 Batch 10 Loss 0.1122155636548996\n",
      "Epoch 28 Loss 0.10036753756659371\n",
      "Time taken for 1 epoch 7.152313470840454 sec\n",
      "\n",
      "Epoch 29 Batch 0 Loss 0.07587691396474838\n",
      "Epoch 29 Batch 5 Loss 0.08951036632061005\n",
      "Epoch 29 Batch 10 Loss 0.10562162101268768\n",
      "Epoch 29 Loss 0.08937425272805351\n",
      "Time taken for 1 epoch 5.008356809616089 sec\n",
      "\n",
      "Epoch 30 Batch 0 Loss 0.079680435359478\n",
      "Epoch 30 Batch 5 Loss 0.07059600949287415\n",
      "Epoch 30 Batch 10 Loss 0.08835294097661972\n",
      "Epoch 30 Loss 0.08300716536385673\n",
      "Time taken for 1 epoch 7.236016750335693 sec\n",
      "\n",
      "Epoch 31 Batch 0 Loss 0.05619359761476517\n",
      "Epoch 31 Batch 5 Loss 0.07346560060977936\n",
      "Epoch 31 Batch 10 Loss 0.08474397659301758\n",
      "Epoch 31 Loss 0.07373451335089547\n",
      "Time taken for 1 epoch 5.010561227798462 sec\n",
      "\n",
      "Epoch 32 Batch 0 Loss 0.04975616931915283\n",
      "Epoch 32 Batch 5 Loss 0.06541021168231964\n",
      "Epoch 32 Batch 10 Loss 0.08630205690860748\n",
      "Epoch 32 Loss 0.06761653082711357\n",
      "Time taken for 1 epoch 6.977648496627808 sec\n",
      "\n",
      "Epoch 33 Batch 0 Loss 0.05048251897096634\n",
      "Epoch 33 Batch 5 Loss 0.055561985820531845\n",
      "Epoch 33 Batch 10 Loss 0.08053438365459442\n",
      "Epoch 33 Loss 0.06248788748468671\n",
      "Time taken for 1 epoch 5.045424699783325 sec\n",
      "\n",
      "Epoch 34 Batch 0 Loss 0.04458840936422348\n",
      "Epoch 34 Batch 5 Loss 0.058766335248947144\n",
      "Epoch 34 Batch 10 Loss 0.06533659249544144\n",
      "Epoch 34 Loss 0.05778669885226658\n",
      "Time taken for 1 epoch 7.577210903167725 sec\n",
      "\n",
      "Epoch 35 Batch 0 Loss 0.048875585198402405\n",
      "Epoch 35 Batch 5 Loss 0.04862047731876373\n",
      "Epoch 35 Batch 10 Loss 0.07208581268787384\n",
      "Epoch 35 Loss 0.05546155146190098\n",
      "Time taken for 1 epoch 5.005317687988281 sec\n",
      "\n",
      "Epoch 36 Batch 0 Loss 0.046947937458753586\n",
      "Epoch 36 Batch 5 Loss 0.05620315298438072\n",
      "Epoch 36 Batch 10 Loss 0.05463714152574539\n",
      "Epoch 36 Loss 0.052530727216175625\n",
      "Time taken for 1 epoch 7.171271800994873 sec\n",
      "\n",
      "Epoch 37 Batch 0 Loss 0.04700774326920509\n",
      "Epoch 37 Batch 5 Loss 0.05558612570166588\n",
      "Epoch 37 Batch 10 Loss 0.04754208028316498\n",
      "Epoch 37 Loss 0.04973241261073521\n",
      "Time taken for 1 epoch 5.045359134674072 sec\n",
      "\n",
      "Epoch 38 Batch 0 Loss 0.03255697712302208\n",
      "Epoch 38 Batch 5 Loss 0.046675048768520355\n",
      "Epoch 38 Batch 10 Loss 0.0450868085026741\n",
      "Epoch 38 Loss 0.0479785076209477\n",
      "Time taken for 1 epoch 7.323027610778809 sec\n",
      "\n",
      "Epoch 39 Batch 0 Loss 0.03420836105942726\n",
      "Epoch 39 Batch 5 Loss 0.05243413895368576\n",
      "Epoch 39 Batch 10 Loss 0.04744526743888855\n",
      "Epoch 39 Loss 0.04602371369089399\n",
      "Time taken for 1 epoch 5.057455062866211 sec\n",
      "\n",
      "Epoch 40 Batch 0 Loss 0.024274500086903572\n",
      "Epoch 40 Batch 5 Loss 0.03226172924041748\n",
      "Epoch 40 Batch 10 Loss 0.04949973151087761\n",
      "Epoch 40 Loss 0.04217785171100071\n",
      "Time taken for 1 epoch 7.5805041790008545 sec\n",
      "\n",
      "Epoch 41 Batch 0 Loss 0.025981992483139038\n"
     ]
    },
    {
     "name": "stdout",
     "output_type": "stream",
     "text": [
      "Epoch 41 Batch 5 Loss 0.03714345768094063\n",
      "Epoch 41 Batch 10 Loss 0.0393642820417881\n",
      "Epoch 41 Loss 0.04047025101525443\n",
      "Time taken for 1 epoch 4.996293783187866 sec\n",
      "\n",
      "Epoch 42 Batch 0 Loss 0.03261339291930199\n",
      "Epoch 42 Batch 5 Loss 0.03570288047194481\n",
      "Epoch 42 Batch 10 Loss 0.04576823115348816\n",
      "Epoch 42 Loss 0.04231699875422886\n",
      "Time taken for 1 epoch 7.472006320953369 sec\n",
      "\n",
      "Epoch 43 Batch 0 Loss 0.0375402569770813\n",
      "Epoch 43 Batch 5 Loss 0.046011749655008316\n",
      "Epoch 43 Batch 10 Loss 0.06043802946805954\n",
      "Epoch 43 Loss 0.043853470257350376\n",
      "Time taken for 1 epoch 5.015347719192505 sec\n",
      "\n",
      "Epoch 44 Batch 0 Loss 0.028744127601385117\n",
      "Epoch 44 Batch 5 Loss 0.036491382867097855\n",
      "Epoch 44 Batch 10 Loss 0.04693227261304855\n",
      "Epoch 44 Loss 0.041218991790499\n",
      "Time taken for 1 epoch 7.329501628875732 sec\n",
      "\n",
      "Epoch 45 Batch 0 Loss 0.036646999418735504\n",
      "Epoch 45 Batch 5 Loss 0.04684644937515259\n",
      "Epoch 45 Batch 10 Loss 0.04121294245123863\n",
      "Epoch 45 Loss 0.04256183334759304\n",
      "Time taken for 1 epoch 4.998302221298218 sec\n",
      "\n",
      "Epoch 46 Batch 0 Loss 0.028350993990898132\n",
      "Epoch 46 Batch 5 Loss 0.048614490777254105\n",
      "Epoch 46 Batch 10 Loss 0.04942689836025238\n",
      "Epoch 46 Loss 0.04462971857615879\n",
      "Time taken for 1 epoch 7.660349369049072 sec\n",
      "\n",
      "Epoch 47 Batch 0 Loss 0.026798566803336143\n",
      "Epoch 47 Batch 5 Loss 0.04264700412750244\n",
      "Epoch 47 Batch 10 Loss 0.05555874481797218\n",
      "Epoch 47 Loss 0.04372355767658779\n",
      "Time taken for 1 epoch 5.003311395645142 sec\n",
      "\n",
      "Epoch 48 Batch 0 Loss 0.02714325301349163\n",
      "Epoch 48 Batch 5 Loss 0.045249052345752716\n",
      "Epoch 48 Batch 10 Loss 0.0435219332575798\n",
      "Epoch 48 Loss 0.04380884766578674\n",
      "Time taken for 1 epoch 8.271050930023193 sec\n",
      "\n",
      "Epoch 49 Batch 0 Loss 0.032288890331983566\n",
      "Epoch 49 Batch 5 Loss 0.038218721747398376\n",
      "Epoch 49 Batch 10 Loss 0.062228865921497345\n",
      "Epoch 49 Loss 0.04616013595036098\n",
      "Time taken for 1 epoch 5.0835490226745605 sec\n",
      "\n",
      "Epoch 50 Batch 0 Loss 0.04489795118570328\n",
      "Epoch 50 Batch 5 Loss 0.03363232687115669\n",
      "Epoch 50 Batch 10 Loss 0.05721104145050049\n",
      "Epoch 50 Loss 0.04690071514674595\n",
      "Time taken for 1 epoch 7.760921955108643 sec\n",
      "\n"
     ]
    }
   ],
   "source": [
    "EPOCHS = 50\n",
    "train_losses = train(train_data, encoder, decoder, checkpoint, optimizer, epochs=EPOCHS)"
   ]
  },
  {
   "cell_type": "code",
   "execution_count": 364,
   "metadata": {},
   "outputs": [
    {
     "data": {
      "image/png": "[encoded data removed]",
      "text/plain": [
       "<Figure size 432x288 with 1 Axes>"
      ]
     },
     "metadata": {
      "needs_background": "light"
     },
     "output_type": "display_data"
    }
   ],
   "source": [
    "plt.figure()\n",
    "plt.plot(train_losses, label='Training Loss')\n",
    "plt.legend()\n",
    "plt.show()"
   ]
  },
  {
   "cell_type": "markdown",
   "metadata": {},
   "source": [
    "## Evaluate Model"
   ]
  },
  {
   "cell_type": "code",
   "execution_count": 365,
   "metadata": {},
   "outputs": [],
   "source": [
    "def evaluate(sentence):\n",
    "    attention_plot = np.zeros((max_length_targ, max_length_inp))\n",
    "    \n",
    "    s = preprocess_sentence(sentence)\n",
    "    \n",
    "    inputs = [inp_lang.word_index[c] for c in s.split(' ')]\n",
    "    inputs = tf.keras.preprocessing.sequence.pad_sequences([inputs], maxlen=max_length_inp, padding='post')\n",
    "    \n",
    "    inputs = tf.convert_to_tensor(inputs)\n",
    "    \n",
    "    result= '<start> '\n",
    "    \n",
    "    hidden = init_hidden(1, gru_units)\n",
    "    enc_out, enc_hidden = encoder((inputs, hidden))\n",
    "    \n",
    "    dec_hidden = enc_hidden\n",
    "    dec_input = tf.expand_dims([targ_lang.word_index['<start>']], 0) #(1, 1)\n",
    "    \n",
    "    for t in range(max_length_targ):\n",
    "        preds, dec_hidden, attn_weights = decoder((dec_input, dec_hidden, enc_out))\n",
    "        \n",
    "        #attn_weights shape: (1, max_length_inp, 1)\n",
    "        attn_weights = tf.reshape(attn_weights, shape=(-1, ))\n",
    "        attention_plot[t] = attn_weights.numpy()\n",
    "        \n",
    "        #preds shape: (1, vocab_targ_size)\n",
    "        predicted_id = tf.argmax(preds[0]).numpy()\n",
    "        \n",
    "        result += (targ_lang.index_word[predicted_id] + ' ')\n",
    "        \n",
    "        #Early exit if end token predicted\n",
    "        if targ_lang.index_word[predicted_id] == '<end>':\n",
    "            return result, sentence, attention_plot\n",
    "        \n",
    "        #The predicted word is fed back into the decoder\n",
    "        dec_input = tf.expand_dims([predicted_id], 0)\n",
    "        \n",
    "    return result, sentence, attention_plot"
   ]
  },
  {
   "cell_type": "code",
   "execution_count": 366,
   "metadata": {},
   "outputs": [],
   "source": [
    "def plot_attention(attention, sentence, predicted_sentence):\n",
    "    fig = plt.figure(figsize=(10,10))\n",
    "    ax = fig.add_subplot(1, 1, 1)\n",
    "    ax.matshow(attention, cmap='viridis')\n",
    "    \n",
    "    fontdict = {'fontsize': 14}\n",
    "    \n",
    "    ax.set_xticklabels([''] + sentence, fontdict=fontdict, rotation=90)\n",
    "    ax.set_yticklabels([''] + predicted_sentence, fontdict=fontdict)\n",
    "    \n",
    "    ax.xaxis.set_major_locator(ticker.MultipleLocator(1))\n",
    "    ax.yaxis.set_major_locator(ticker.MultipleLocator(1))\n",
    "    \n",
    "    plt.show()"
   ]
  },
  {
   "cell_type": "code",
   "execution_count": 367,
   "metadata": {},
   "outputs": [],
   "source": [
    "def translate(sentence):\n",
    "    result, sentence, attention_plot = evaluate(sentence)\n",
    "    \n",
    "    print('Input: %s' % (sentence))\n",
    "    print('Predicted translation: {}'.format(result))\n",
    "    \n",
    "    attention_plot = attention_plot[:len(result.split(' ')), :len(sentence.split(' '))]\n",
    "    plot_attention(attention_plot, sentence.split(' '), result.split(' '))"
   ]
  },
  {
   "cell_type": "code",
   "execution_count": 368,
   "metadata": {},
   "outputs": [
    {
     "data": {
      "text/plain": [
       "<tensorflow.python.training.tracking.util.CheckpointLoadStatus at 0x50b9be2f48>"
      ]
     },
     "execution_count": 368,
     "metadata": {},
     "output_type": "execute_result"
    }
   ],
   "source": [
    "# restoring the latest checkpoint in checkpoint_dir\n",
    "checkpoint.restore(tf.train.latest_checkpoint(checkpoint_dir))"
   ]
  },
  {
   "cell_type": "code",
   "execution_count": 381,
   "metadata": {},
   "outputs": [
    {
     "name": "stdout",
     "output_type": "stream",
     "text": [
      "Input: Help me!\n",
      "Predicted translation: <start> مدد۔ <end> \n"
     ]
    },
    {
     "data": {
      "image/png": "[encoded data removed]",
      "text/plain": [
       "<Figure size 720x720 with 1 Axes>"
      ]
     },
     "metadata": {
      "needs_background": "light"
     },
     "output_type": "display_data"
    }
   ],
   "source": [
    "translate(u'Help me!')"
   ]
  },
  {
   "cell_type": "code",
   "execution_count": 382,
   "metadata": {},
   "outputs": [
    {
     "name": "stdout",
     "output_type": "stream",
     "text": [
      "Input: How are you?\n",
      "Predicted translation: <start> تم کیسے کر رہے ہو ؟ <end> \n"
     ]
    },
    {
     "data": {
      "image/png": "[encoded data removed]",
      "text/plain": [
       "<Figure size 720x720 with 1 Axes>"
      ]
     },
     "metadata": {
      "needs_background": "light"
     },
     "output_type": "display_data"
    }
   ],
   "source": [
    "translate(u'How are you?')"
   ]
  },
  {
   "cell_type": "code",
   "execution_count": 385,
   "metadata": {},
   "outputs": [
    {
     "name": "stdout",
     "output_type": "stream",
     "text": [
      "Input: meet me.\n",
      "Predicted translation: <start> تم نے ایک ارامدہ زندگی گزار رہا ہے۔ <end> \n"
     ]
    },
    {
     "data": {
      "image/png": "[encoded data removed]",
      "text/plain": [
       "<Figure size 720x720 with 1 Axes>"
      ]
     },
     "metadata": {
      "needs_background": "light"
     },
     "output_type": "display_data"
    }
   ],
   "source": [
    "translate(u'meet me.')"
   ]
  },
  {
   "cell_type": "code",
   "execution_count": null,
   "metadata": {},
   "outputs": [],
   "source": []
  }
 ],
 "metadata": {
  "kernelspec": {
   "display_name": "Python 3",
   "language": "python",
   "name": "python3"
  },
  "language_info": {
   "codemirror_mode": {
    "name": "ipython",
    "version": 3
   },
   "file_extension": ".py",
   "mimetype": "text/x-python",
   "name": "python",
   "nbconvert_exporter": "python",
   "pygments_lexer": "ipython3",
   "version": "3.7.5"
  }
 },
 "nbformat": 4,
 "nbformat_minor": 4
}
